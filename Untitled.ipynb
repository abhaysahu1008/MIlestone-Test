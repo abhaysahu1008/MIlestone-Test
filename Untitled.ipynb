{
 "cells": [
  {
   "cell_type": "markdown",
   "id": "1553c232-6e0f-44fe-a202-e7a54b372bc5",
   "metadata": {},
   "source": [
    "Question 1.1: Write the Answer to these questions."
   ]
  },
  {
   "cell_type": "code",
   "execution_count": 1,
   "id": "0a1746a4-eaf6-49d8-b78b-ce843c46a39f",
   "metadata": {},
   "outputs": [
    {
     "name": "stdout",
     "output_type": "stream",
     "text": [
      "4\n",
      "4\n",
      "Red\n",
      "Blue\n"
     ]
    }
   ],
   "source": [
    "# What is the difference between static and dynamic variables in Python?\n",
    "\n",
    "'''Static Variable: A variable that is shared among all instances of a class. It's defined within a class but outside any method.\n",
    "Changes made to a static variable reflect across all instances of the class.'''\n",
    "\n",
    "#Example:\n",
    "\n",
    "class Car:\n",
    "    wheels = 4  # Static variable\n",
    "\n",
    "car1 = Car()\n",
    "car2 = Car()\n",
    "print(car1.wheels)  # Output: 4\n",
    "car2.wheels = 5\n",
    "print(car1.wheels)  # Output: 5\n",
    "\n",
    "\n",
    "'''Dynamic Variable: A variable that is defined inside a method and is specific to an instance. Each instance of the class can have\n",
    "its own unique value for this variable.'''\n",
    "\n",
    "#Example:\n",
    "\n",
    "class Car:\n",
    "    def __init__(self, color):\n",
    "        self.color = color  # Dynamic variable\n",
    "\n",
    "car1 = Car(\"Red\")\n",
    "car2 = Car(\"Blue\")\n",
    "print(car1.color)  \n",
    "print(car2.color)  "
   ]
  },
  {
   "cell_type": "code",
   "execution_count": 5,
   "id": "aeca2eec-f215-4231-bf09-8fa2407b64a5",
   "metadata": {},
   "outputs": [
    {
     "name": "stdout",
     "output_type": "stream",
     "text": [
      "2\n",
      "{'a': 1, 'c': 3}\n",
      "('c', 3)\n",
      "{'a': 1, 'b': 2}\n",
      "{}\n"
     ]
    }
   ],
   "source": [
    "# Explain the purpose of \"pop\", \"popitem\", \"clear()\" in a dictionary with suitable examples.\n",
    "\n",
    "'''Purpose of pop, popitem, and clear() in a Dictionary\n",
    "\n",
    "pop(key): Removes the specified key and returns its value. If the key is not found, it raises a KeyError.\n",
    "\n",
    "Example:'''\n",
    "\n",
    "my_dict = {'a': 1, 'b': 2, 'c': 3}\n",
    "value = my_dict.pop('b')\n",
    "print(value)  \n",
    "print(my_dict)  \n",
    "\n",
    "'''popitem(): Removes and returns the last key-value pair in the dictionary.\n",
    "\n",
    "Example:'''\n",
    "\n",
    "my_dict = {'a': 1, 'b': 2, 'c': 3}\n",
    "item = my_dict.popitem()\n",
    "print(item)  \n",
    "print(my_dict)  \n",
    "\n",
    "\n",
    "'''clear():  Removes all items from the dictionary.\n",
    "Example:'''\n",
    "\n",
    "my_dict = {'a': 1, 'b': 2, 'c': 3}\n",
    "my_dict.clear()\n",
    "print(my_dict)  "
   ]
  },
  {
   "cell_type": "code",
   "execution_count": 6,
   "id": "0d303147-adfe-4e15-8d1a-81c699a72b51",
   "metadata": {},
   "outputs": [
    {
     "name": "stdout",
     "output_type": "stream",
     "text": [
      "frozenset({1, 2, 3})\n"
     ]
    }
   ],
   "source": [
    "# What do you mean by FrozenSet? Explain it with suitable examples.\n",
    "\n",
    "\n",
    "'''FrozenSet: An immutable version of a set, meaning the elements cannot be changed after the set is created. \n",
    "It is hashable and can be used as a key in dictionaries.\n",
    "Example:'''\n",
    "\n",
    "normal_set = set([1, 2, 3])\n",
    "frozen_set = frozenset([1, 2, 3])\n",
    "print(frozen_set)  \n",
    "\n",
    "# frozen_set.add(4)  # Raises an AttributeError because it's immutable"
   ]
  },
  {
   "cell_type": "code",
   "execution_count": 7,
   "id": "0444bb42-59e1-4e32-b19e-684dbb3c22cd",
   "metadata": {},
   "outputs": [
    {
     "name": "stdout",
     "output_type": "stream",
     "text": [
      "[1, 2, 3, 4]\n"
     ]
    }
   ],
   "source": [
    "#Differentiate between mutable and immutable data types in Python and give examples of mutable and immutable data types.\n",
    "'''Mutable Data Types: Objects that can be modified after creation. Examples include lists, dictionaries, and sets.\n",
    "Example:'''\n",
    "\n",
    "my_list = [1, 2, 3]\n",
    "my_list.append(4)\n",
    "print(my_list)  \n",
    "\n",
    "'''Immutable Data Types: Objects that cannot be modified after creation. Examples include tuples, strings, and numbers.\n",
    "Example:'''\n",
    "\n",
    "my_tuple = (1, 2, 3)\n",
    "# my_tuple[0] = 4  # Raises a TypeError because tuples are immutable"
   ]
  },
  {
   "cell_type": "code",
   "execution_count": 8,
   "id": "9989ac8a-f868-4b00-9ddc-27d0452cf89d",
   "metadata": {},
   "outputs": [
    {
     "name": "stdout",
     "output_type": "stream",
     "text": [
      "Buddy\n",
      "Golden Retriever\n"
     ]
    }
   ],
   "source": [
    "# What is __init__? Explain with an example.\n",
    "'''__init__: A special method in Python classes, called a constructor. It is automatically invoked when an instance of the class is created. It's used to initialize the attributes of the class.\n",
    "Example:'''\n",
    "\n",
    "class Dog:\n",
    "    def __init__(self, name, breed):\n",
    "        self.name = name\n",
    "        self.breed = breed\n",
    "\n",
    "my_dog = Dog(\"Buddy\", \"Golden Retriever\")\n",
    "print(my_dog.name) \n",
    "print(my_dog.breed) "
   ]
  },
  {
   "cell_type": "code",
   "execution_count": 9,
   "id": "5bfcb769-6f3f-4cce-a6a2-74fdde0a425e",
   "metadata": {},
   "outputs": [
    {
     "name": "stdout",
     "output_type": "stream",
     "text": [
      "\n",
      "    This function greets the person passed as an argument.\n",
      "    :param name: str\n",
      "    :return: str\n",
      "    \n"
     ]
    }
   ],
   "source": [
    "#What is docstring in Python? Explain with an example.\n",
    "'''Docstring: A string literal that occurs as the first statement in a module, function, class, or method definition. \n",
    "It is used for documenting the purpose and usage of the code block.\n",
    "Example:'''\n",
    "\n",
    "def greet(name):\n",
    "    \"\"\"\n",
    "    This function greets the person passed as an argument.\n",
    "    :param name: str\n",
    "    :return: str\n",
    "    \"\"\"\n",
    "    return f\"Hello, {name}!\"\n",
    "\n",
    "print(greet.__doc__)\n",
    "# Output:\n",
    "# This function greets the person passed as an argument.\n",
    "# :param name: str\n",
    "# :return: str"
   ]
  },
  {
   "cell_type": "code",
   "execution_count": 11,
   "id": "d48eeb4f-28e9-4701-aec9-3e5fbfc851c2",
   "metadata": {},
   "outputs": [
    {
     "name": "stdout",
     "output_type": "stream",
     "text": [
      "\u001b[31mERROR: Could not find a version that satisfies the requirement unittest (from versions: none)\u001b[0m\u001b[31m\n",
      "\u001b[0m\u001b[31mERROR: No matching distribution found for unittest\u001b[0m\u001b[31m\n",
      "\u001b[0m"
     ]
    }
   ],
   "source": [
    "## What are unit tests in Python?\n",
    "!pip install unittest"
   ]
  },
  {
   "cell_type": "code",
   "execution_count": 12,
   "id": "9463c97b-95ad-432a-9072-23ad98948295",
   "metadata": {},
   "outputs": [
    {
     "name": "stdout",
     "output_type": "stream",
     "text": [
      "0\n",
      "1\n",
      "2\n",
      "0\n",
      "1\n",
      "2\n",
      "4\n",
      "0\n",
      "1\n",
      "2\n",
      "3\n",
      "4\n"
     ]
    }
   ],
   "source": [
    "#What is break, continue, and pass in Python?\n",
    "'''break: Terminates the loop and exits to the next statement following the loop.\n",
    "Example:'''\n",
    "\n",
    "for i in range(5):\n",
    "    if i == 3:\n",
    "        break\n",
    "    print(i)  \n",
    "\n",
    "    \n",
    "'''continue: Skips the current iteration and moves to the next iteration of the loop.\n",
    "Example:'''\n",
    "\n",
    "for i in range(5):\n",
    "    if i == 3:\n",
    "        continue\n",
    "    print(i) \n",
    "\n",
    "    \n",
    "'''pass: A null operation; it does nothing. It's used as a placeholder where syntactically a statement is required but no action is needed.\n",
    "Example:'''\n",
    "\n",
    "for i in range(5):\n",
    "    if i == 3:\n",
    "        pass\n",
    "    print(i)  "
   ]
  },
  {
   "cell_type": "code",
   "execution_count": 13,
   "id": "b48b54bf-714a-4db5-8a3f-002a12c5c961",
   "metadata": {},
   "outputs": [
    {
     "name": "stdout",
     "output_type": "stream",
     "text": [
      "Hello, Alice!\n"
     ]
    }
   ],
   "source": [
    "#What is the use of self in Python?\n",
    "'''self: Refers to the instance of the class. It's used to access variables and methods associated with the instance.\n",
    "Example:'''\n",
    "\n",
    "class Person:\n",
    "    def __init__(self, name):\n",
    "        self.name = name\n",
    "\n",
    "    def greet(self):\n",
    "        return f\"Hello, {self.name}!\"\n",
    "\n",
    "person = Person(\"Alice\")\n",
    "print(person.greet())  "
   ]
  },
  {
   "cell_type": "code",
   "execution_count": 14,
   "id": "6b75ba27-1227-43e0-bddb-a997e041fe95",
   "metadata": {},
   "outputs": [
    {
     "name": "stdout",
     "output_type": "stream",
     "text": [
      "I am global\n",
      "I am protected\n",
      "I am private\n"
     ]
    }
   ],
   "source": [
    "#What are global, protected, and private attributes in Python?\n",
    "'''Global Attribute: Variables that can be accessed anywhere in the module.\n",
    "Example:'''\n",
    "\n",
    "GLOBAL_VAR = \"I am global\"\n",
    "\n",
    "def print_global():\n",
    "    print(GLOBAL_VAR)\n",
    "\n",
    "print_global()  \n",
    "\n",
    "\n",
    "'''Protected Attribute: Variables intended to be used within the class and its subclasses, denoted by a single underscore _.\n",
    "Example:'''\n",
    "\n",
    "class Car:\n",
    "    _protected_var = \"I am protected\"\n",
    "\n",
    "class SportsCar(Car):\n",
    "    def print_protected(self):\n",
    "        print(self._protected_var)\n",
    "\n",
    "my_car = SportsCar()\n",
    "my_car.print_protected()  \n",
    "\n",
    "\n",
    "'''Private Attribute: Variables intended to be used only within the class, denoted by double underscores __.\n",
    "Example:'''\n",
    "\n",
    "class Car:\n",
    "    __private_var = \"I am private\"\n",
    "\n",
    "    def get_private_var(self):\n",
    "        return self.__private_var\n",
    "\n",
    "my_car = Car()\n",
    "print(my_car.get_private_var())  \n",
    "# print(my_car.__private_var)  # Raises AttributeError"
   ]
  },
  {
   "cell_type": "code",
   "execution_count": 16,
   "id": "a5f6b0a4-061d-41f0-a75d-850caa8c621b",
   "metadata": {},
   "outputs": [
    {
     "ename": "SyntaxError",
     "evalue": "invalid syntax (3110229614.py, line 12)",
     "output_type": "error",
     "traceback": [
      "\u001b[0;36m  Cell \u001b[0;32mIn[16], line 12\u001b[0;36m\u001b[0m\n\u001b[0;31m    Package: A collection of related modules organized in directories. It may contain an __init__.py file.\u001b[0m\n\u001b[0m               ^\u001b[0m\n\u001b[0;31mSyntaxError\u001b[0m\u001b[0;31m:\u001b[0m invalid syntax\n"
     ]
    }
   ],
   "source": [
    "#What are global, protected, and private attributes in Python?\n",
    "'''Module: A single Python file that can contain functions, classes, and variables. It can be imported and used in other Python files.\n",
    "Example:'''\n",
    "\n",
    "# module: math_functions.py\n",
    "def add(a, b):\n",
    "    return a + b\n",
    "\n",
    "# Another file\n",
    "from math_functions import add\n",
    "print(add(2, 3))  \n",
    "\n",
    "'''Package: A collection of related modules organized in directories. It may contain an __init__.py file.\n",
    "\n",
    "Example:\n",
    "\n",
    "my_package/\n",
    "    __init__.py\n",
    "    math_functions.py\n",
    "    string_functions.py'''"
   ]
  },
  {
   "cell_type": "code",
   "execution_count": 17,
   "id": "01dca8dd-0a96-459f-be84-ac488fc4a891",
   "metadata": {},
   "outputs": [
    {
     "name": "stdout",
     "output_type": "stream",
     "text": [
      "[1, 2, 3, 4]\n"
     ]
    },
    {
     "data": {
      "text/plain": [
       "'Key Difference: Lists are mutable, meaning they can be modified after creation. \\nTuples are immutable and cannot be modified after creation.'"
      ]
     },
     "execution_count": 17,
     "metadata": {},
     "output_type": "execute_result"
    }
   ],
   "source": [
    "##What are lists and tuples? What is the key difference between the two?\n",
    "'''List: A mutable sequence that can hold items of any data type.\n",
    "Example:'''\n",
    "\n",
    "my_list = [1, 2, 3]\n",
    "my_list.append(4)\n",
    "print(my_list)\n",
    "\n",
    "\n",
    "'''Tuple: An immutable sequence that can hold items of any data type.\n",
    "Example:'''\n",
    "\n",
    "my_tuple = (1, 2, 3)\n",
    "# my_tuple.append(4)  # Raises AttributeError because tuples are immutable\n",
    "'''Key Difference: Lists are mutable, meaning they can be modified after creation. \n",
    "Tuples are immutable and cannot be modified after creation.'''"
   ]
  },
  {
   "cell_type": "code",
   "execution_count": 18,
   "id": "de2f200b-6a02-4017-b57f-4a843e483ef3",
   "metadata": {},
   "outputs": [
    {
     "data": {
      "text/plain": [
       "'Interpreted Language: Python code is executed line-by-line by an interpreter. Examples include Python, Ruby, and PHP.\\n\\nDynamically Typed Language: Variable types are determined at runtime, not in advance. Examples include Python and JavaScript.\\n\\nDifferences:\\nExecution: Interpreted languages execute code directly, while compiled languages convert code into machine code before execution.\\nError Detection: Errors in interpreted languages are found at runtime, while in compiled languages, errors are found during compilation.\\nFlexibility: Dynamically typed languages allow variables to change types, while statically typed languages require type declarations.\\nDevelopment Speed: Interpreted languages often allow faster development due to immediate execution, while compiled languages may take longer due to the compilation step.\\nPerformance: Compiled languages typically perform better because the code is optimized during compilation, whereas interpreted languages may run slower due to line-by-line execution.'"
      ]
     },
     "execution_count": 18,
     "metadata": {},
     "output_type": "execute_result"
    }
   ],
   "source": [
    "#What is an interpreted language & dynamically typed language? Write 5 differences between them.\n",
    "'''Interpreted Language: Python code is executed line-by-line by an interpreter. Examples include Python, Ruby, and PHP.\n",
    "\n",
    "Dynamically Typed Language: Variable types are determined at runtime, not in advance. Examples include Python and JavaScript.\n",
    "\n",
    "Differences:\n",
    "Execution: Interpreted languages execute code directly, while compiled languages convert code into machine code before execution.\n",
    "Error Detection: Errors in interpreted languages are found at runtime, while in compiled languages, errors are found during compilation.\n",
    "Flexibility: Dynamically typed languages allow variables to change types, while statically typed languages require type declarations.\n",
    "Development Speed: Interpreted languages often allow faster development due to immediate execution, while compiled languages may take longer due to the compilation step.\n",
    "Performance: Compiled languages typically perform better because the code is optimized during compilation, whereas interpreted languages may run slower due to line-by-line execution.'''"
   ]
  },
  {
   "cell_type": "code",
   "execution_count": 19,
   "id": "925820ca-948d-45f0-b2c1-ce13f7850cd4",
   "metadata": {},
   "outputs": [
    {
     "name": "stdout",
     "output_type": "stream",
     "text": [
      "[0, 1, 4, 9, 16]\n",
      "{0: 0, 1: 1, 2: 4, 3: 9, 4: 16}\n"
     ]
    }
   ],
   "source": [
    "#What are Dict and List comprehensions?\n",
    "'''List Comprehension: A concise way to create lists.\n",
    "Example:'''\n",
    "\n",
    "squares = [x**2 for x in range(5)]\n",
    "print(squares)  \n",
    "\n",
    "\n",
    "'''Dict Comprehension: A concise way to create dictionaries.\n",
    "Example:'''\n",
    "\n",
    "\n",
    "squares_dict = {x: x**2 for x in range(5)}\n",
    "print(squares_dict)  "
   ]
  },
  {
   "cell_type": "code",
   "execution_count": 20,
   "id": "aeebed3a-c546-496a-9afc-22708d0e8005",
   "metadata": {},
   "outputs": [
    {
     "name": "stdout",
     "output_type": "stream",
     "text": [
      "Something is happening before the function is called.\n",
      "Hello!\n",
      "Something is happening after the function is called.\n"
     ]
    }
   ],
   "source": [
    "#What are decorators in Python? Explain it with an example. Write down its use cases.\n",
    "'''Decorators: Functions that modify the behavior of another function or method. Decorators are often used for logging, access control, and memoization.\n",
    "Example:'''\n",
    "\n",
    "def my_decorator(func):\n",
    "    def wrapper():\n",
    "        print(\"Something is happening before the function is called.\")\n",
    "        func()\n",
    "        print(\"Something is happening after the function is called.\")\n",
    "    return wrapper\n",
    "\n",
    "@my_decorator\n",
    "def say_hello():\n",
    "    print(\"Hello!\")\n",
    "\n",
    "say_hello()\n"
   ]
  },
  {
   "cell_type": "code",
   "execution_count": 21,
   "id": "b6365b88-c7d5-4552-8571-06b09d6ef617",
   "metadata": {},
   "outputs": [
    {
     "name": "stdout",
     "output_type": "stream",
     "text": [
      "['Hello', 'world']\n",
      "Hello world\n"
     ]
    }
   ],
   "source": [
    "#Explain split() and join() functions in Python..\n",
    "'''split(): Splits a string into a list of substrings based on a specified delimiter.\n",
    "Example:'''\n",
    "\n",
    "text = \"Hello world\"\n",
    "words = text.split()\n",
    "print(words) \n",
    "\n",
    "\n",
    "'''join(): Joins a list of strings into a single string with a specified delimiter.\n",
    "Example:'''\n",
    "\n",
    "words = ['Hello', 'world']\n",
    "sentence = \" \".join(words)\n",
    "print(sentence)  "
   ]
  },
  {
   "cell_type": "code",
   "execution_count": 24,
   "id": "0f3da0d1-172c-43be-ad15-1abb046b8b0d",
   "metadata": {},
   "outputs": [
    {
     "name": "stdout",
     "output_type": "stream",
     "text": [
      "1\n",
      "2\n",
      "1\n",
      "2\n",
      "3\n",
      "1\n",
      "2\n",
      "3\n"
     ]
    }
   ],
   "source": [
    "#What are iterators, iterable & generators in Python?\n",
    "'''Iterator: An object that can be iterated upon. It implements the __iter__() and __next__() methods.\n",
    "Example:'''\n",
    "\n",
    "my_list = [1, 2, 3]\n",
    "iterator = iter(my_list)\n",
    "print(next(iterator)) \n",
    "print(next(iterator)) \n",
    "\n",
    "\n",
    "'''Iterable: An object that can return an iterator. Examples include lists, tuples, and strings.\n",
    "Example:'''\n",
    "\n",
    "my_list = [1, 2, 3]\n",
    "for item in my_list:\n",
    "    print(item)\n",
    "    \n",
    "    \n",
    "'''Generator: A function that returns an iterator using yield instead of return. It generates values one at a time as they are requested.\n",
    "Example:'''\n",
    "\n",
    "def my_generator():\n",
    "    yield 1\n",
    "    yield 2\n",
    "    yield 3\n",
    "\n",
    "gen = my_generator()\n",
    "for value in gen:\n",
    "    print(value)\n",
    "\n"
   ]
  },
  {
   "cell_type": "code",
   "execution_count": 23,
   "id": "e027178e-be90-478d-bcf2-c01c525b694e",
   "metadata": {},
   "outputs": [
    {
     "name": "stdout",
     "output_type": "stream",
     "text": [
      "0\n",
      "1\n",
      "2\n",
      "3\n",
      "4\n"
     ]
    }
   ],
   "source": [
    "#What is the difference between xrange and range in Python?\n",
    "'''range: Generates a list of numbers in Python 2 and an immutable sequence in Python 3.\n",
    "xrange: In Python 2, generates an iterable object instead of a list, saving memory. In Python 3, range behaves like xrange.\n",
    "Example:'''\n",
    "\n",
    "for i in range(5):\n",
    "    print(i)  # Output: 0, 1, 2, 3, 4"
   ]
  },
  {
   "cell_type": "code",
   "execution_count": 25,
   "id": "f52647b2-29e8-4981-b07a-829faf0e33ec",
   "metadata": {},
   "outputs": [
    {
     "data": {
      "text/plain": [
       "'Encapsulation: Bundling data and methods that operate on the data within one unit, like a class.\\nAbstraction: Hiding the internal implementation and exposing only the necessary parts.\\nInheritance: The ability of a class to inherit attributes and methods from another class.\\nPolymorphism: The ability of different objects to be accessed through the same interface, allowing functions or methods to use objects of different types.'"
      ]
     },
     "execution_count": 25,
     "metadata": {},
     "output_type": "execute_result"
    }
   ],
   "source": [
    "# Pillars of OOPs.\n",
    "'''Encapsulation: Bundling data and methods that operate on the data within one unit, like a class.\n",
    "Abstraction: Hiding the internal implementation and exposing only the necessary parts.\n",
    "Inheritance: The ability of a class to inherit attributes and methods from another class.\n",
    "Polymorphism: The ability of different objects to be accessed through the same interface, allowing functions or methods to use objects of different types.'''"
   ]
  },
  {
   "cell_type": "code",
   "execution_count": null,
   "id": "1c15d732-025a-4aa9-96da-2363f7dbf4b8",
   "metadata": {},
   "outputs": [],
   "source": [
    "# How will you check if a class is a child of another class?\n",
    "'''Use issubclass(): A built-in function that checks if a class is a subclass of another class.\n",
    "Example:'''\n",
    "\n",
    "class Animal:\n",
    "    pass\n",
    "\n",
    "class Dog(Animal):\n",
    "    pass\n",
    "\n",
    "print(issubclass(Dog, Animal))  "
   ]
  },
  {
   "cell_type": "code",
   "execution_count": 26,
   "id": "d9eb6001-9126-4d2d-8994-dea436cfecc6",
   "metadata": {},
   "outputs": [],
   "source": [
    "#How does inheritance work in Python? Explain all types of inheritance with an example.\n",
    "'''Single Inheritance: A class inherits from one parent class.\n",
    "Example:'''\n",
    "\n",
    "class Animal:\n",
    "    pass\n",
    "\n",
    "class Dog(Animal):\n",
    "    pass\n",
    "\n",
    "\n",
    "'''Multiple Inheritance: A class inherits from more than one parent class.\n",
    "Example:'''\n",
    "\n",
    "class Animal:\n",
    "    pass\n",
    "\n",
    "class Mammal:\n",
    "    pass\n",
    "\n",
    "class Dog(Animal, Mammal):\n",
    "    pass\n",
    "\n",
    "\n",
    "'''Multilevel Inheritance: A class inherits from a child class, forming a chain.\n",
    "Example:'''\n",
    "\n",
    "class Animal:\n",
    "    pass\n",
    "\n",
    "class Mammal(Animal):\n",
    "    pass\n",
    "\n",
    "class Dog(Mammal):\n",
    "    pass\n",
    "\n",
    "\n",
    "'''Hierarchical Inheritance: Multiple classes inherit from a single parent class.\n",
    "Example:'''\n",
    "\n",
    "class Animal:\n",
    "    pass\n",
    "\n",
    "class Dog(Animal):\n",
    "    pass\n",
    "\n",
    "class Cat(Animal):\n",
    "    pass"
   ]
  },
  {
   "cell_type": "code",
   "execution_count": 27,
   "id": "d3730acc-808b-4cb0-ad38-2f441f16b555",
   "metadata": {},
   "outputs": [
    {
     "name": "stdout",
     "output_type": "stream",
     "text": [
      "Car: Toyota Camry\n"
     ]
    }
   ],
   "source": [
    "#What is encapsulation? Explain it with an example.\n",
    "'''Encapsulation: Bundles the data and methods that operate on the data within a single unit (class). It restricts direct access to some of the object's components.\n",
    "Example:'''\n",
    "\n",
    "class Car:\n",
    "    def __init__(self, make, model):\n",
    "        self.__make = make  # Private attribute\n",
    "        self.__model = model  # Private attribute\n",
    "\n",
    "    def get_car_info(self):\n",
    "        return f\"Car: {self.__make} {self.__model}\"\n",
    "\n",
    "my_car = Car(\"Toyota\", \"Camry\")\n",
    "print(my_car.get_car_info())  "
   ]
  },
  {
   "cell_type": "code",
   "execution_count": 1,
   "id": "e96e8e31-ebbc-4ad4-b32f-c778084d7055",
   "metadata": {},
   "outputs": [
    {
     "name": "stdout",
     "output_type": "stream",
     "text": [
      "Woof!\n",
      "Meow!\n"
     ]
    }
   ],
   "source": [
    "#What is polymorphism? Explain it with an example.\n",
    "'''Polymorphism: The ability to use a single interface to represent different underlying forms (data types).\n",
    "Example:'''\n",
    "\n",
    "class Dog:\n",
    "    def speak(self):\n",
    "        return \"Woof!\"\n",
    "\n",
    "class Cat:\n",
    "    def speak(self):\n",
    "        return \"Meow!\"\n",
    "\n",
    "def animal_speak(animal):\n",
    "    print(animal.speak())\n",
    "\n",
    "dog = Dog()\n",
    "cat = Cat()\n",
    "animal_speak(dog)  \n",
    "animal_speak(cat)  "
   ]
  },
  {
   "cell_type": "markdown",
   "id": "8aad6e67-a02b-4b43-ae02-afbff9fbac4f",
   "metadata": {},
   "source": [
    "Question 1.2: Which of the following identifier names are invalid and why?"
   ]
  },
  {
   "cell_type": "code",
   "execution_count": 2,
   "id": "e463ed0b-2d67-4a7c-bf30-171f3b35d5e7",
   "metadata": {},
   "outputs": [
    {
     "data": {
      "text/plain": [
       "'a) Serial_no: Valid. It follows the rules of identifier naming in Python.\\n\\nb) 1st_Room: Invalid. Identifiers cannot start with a digit.\\n\\nc) Hundreds: Valid. It follows the rules of identifier naming in Python.\\n\\nd) Total_Marks: Valid. It follows the rules of identifier naming in Python.\\n\\ne) total-Marks: Invalid. The hyphen - is not allowed in identifier names; it is interpreted as a subtraction operator.\\n\\nf) Total Marks: Invalid. Spaces are not allowed in identifier names.\\n\\ng) True: Invalid. True is a reserved keyword in Python and cannot be used as an identifier.\\n\\nh) _Percentag: Valid. Identifiers can start with an underscore and follow the rules of identifier naming in Python.'"
      ]
     },
     "execution_count": 2,
     "metadata": {},
     "output_type": "execute_result"
    }
   ],
   "source": [
    "#a) Serial_no.  \n",
    "#b) 1st_Room  \n",
    "#c) Hundreds  \n",
    "#d) Total_Marks  \n",
    "#e) total-Marks  \n",
    "#f) Total Marks  \n",
    "#g) True  \n",
    "#h) _Percentag\n",
    "\n",
    "'''a) Serial_no: Valid. It follows the rules of identifier naming in Python.\n",
    "\n",
    "b) 1st_Room: Invalid. Identifiers cannot start with a digit.\n",
    "\n",
    "c) Hundreds: Valid. It follows the rules of identifier naming in Python.\n",
    "\n",
    "d) Total_Marks: Valid. It follows the rules of identifier naming in Python.\n",
    "\n",
    "e) total-Marks: Invalid. The hyphen - is not allowed in identifier names; it is interpreted as a subtraction operator.\n",
    "\n",
    "f) Total Marks: Invalid. Spaces are not allowed in identifier names.\n",
    "\n",
    "g) True: Invalid. True is a reserved keyword in Python and cannot be used as an identifier.\n",
    "\n",
    "h) _Percentag: Valid. Identifiers can start with an underscore and follow the rules of identifier naming in Python.'''"
   ]
  },
  {
   "cell_type": "markdown",
   "id": "0acfe086-0847-4a6d-904a-2e03b098f2d5",
   "metadata": {},
   "source": [
    "Question 1.3:"
   ]
  },
  {
   "cell_type": "code",
   "execution_count": 4,
   "id": "a594cb74-d555-40dd-be5c-1e8d35572433",
   "metadata": {},
   "outputs": [
    {
     "name": "stdout",
     "output_type": "stream",
     "text": [
      "['freedom_fighter', 'Mohan', 'dash', 'karam', 'chandra', 'gandhi', 'Bapu']\n",
      "1\n",
      "['Mohan', 'dash', 'karam', 'chandra', 'gandhi', 'Bapu', 'NetaJi', 'Bose']\n",
      "['Bose', 'dash', 'karam', 'chandra', 'gandhi', 'Bapu', 'NetaJi', 'Mohan']\n"
     ]
    },
    {
     "data": {
      "text/plain": [
       "'Explanation: The code swaps the first and last elements of the list.'"
      ]
     },
     "execution_count": 4,
     "metadata": {},
     "output_type": "execute_result"
    }
   ],
   "source": [
    "#name = [\"Mohan\", \"dash\", \"karam\", \"chandra\",\"gandhi\",\"Bapu\"]\n",
    "\n",
    "\n",
    "#Do the following operations in this list:\n",
    "\n",
    "\n",
    "name = [\"Mohan\", \"dash\", \"karam\", \"chandra\",\"gandhi\",\"Bapu\"]\n",
    "\n",
    "# a) Add an element \"freedom_fighter\" in this list at the 0th index.\n",
    "name.insert(0, \"freedom_fighter\")\n",
    "print(name)\n",
    "\n",
    "'''Explanation: insert(0, \"freedom_fighter\") adds \"freedom_fighter\" at the beginning of the list.'''\n",
    "\n",
    "\n",
    "# b) Find the output of the following, and explain how?\n",
    "name = [[\"freedomFighter\",\"Bapuji\",\"MOhan\", \"dash\", \"karam\", \"chandra\", \"gandhi\"]]\n",
    "Length1 = len(name[-len(name)+1:-1:2])\n",
    "Length2 = len(name[-len(name)+1::-1])\n",
    "print(Length1 + Length2)\n",
    "\n",
    "'''Explanation:\n",
    "\n",
    "name[-len(name)+1:-1:2] slices the list starting from the first element up to (but not including) the last element, with a step of 2.\n",
    "name[-len(name)+1::-1] slices the list in reverse starting from the first element to the beginning.\n",
    "The lengths of the two slices are 1 and 3, respectively, so their sum is 4.'''\n",
    "\n",
    "# c) Add two more elements in the name [\"NetaJi\",\"Bose\"] at the end of the list.\n",
    "name = [\"Mohan\", \"dash\", \"karam\", \"chandra\",\"gandhi\",\"Bapu\"]\n",
    "name.extend([\"NetaJi\", \"Bose\"])\n",
    "print(name)\n",
    "\n",
    "\n",
    "'''Explanation: extend([\"NetaJi\", \"Bose\"]) adds the elements \"NetaJi\" and \"Bose\" to the end of the list.'''\n",
    "\n",
    "\n",
    "# d) What will be the value of temp:\n",
    "temp = name[-1]\n",
    "name[-1] = name[0]\n",
    "name[0] = temp\n",
    "print(name)\n",
    "\n",
    "\n",
    "'''Explanation: The code swaps the first and last elements of the list.'''"
   ]
  },
  {
   "cell_type": "code",
   "execution_count": 5,
   "id": "6beda6e2-6688-400f-ad8a-e3f04938cc96",
   "metadata": {},
   "outputs": [
    {
     "name": "stdout",
     "output_type": "stream",
     "text": [
      "2\n",
      "4\n",
      "7\n"
     ]
    },
    {
     "data": {
      "text/plain": [
       "'count(\\'Human\\') returns the number of times \"Human\" appears in the list, which is 2.\\nindex(\\'rat\\') returns the index of the first occurrence of \"rat\", which is 4.\\nlen(animal) returns the length of the list, which is 7.'"
      ]
     },
     "execution_count": 5,
     "metadata": {},
     "output_type": "execute_result"
    }
   ],
   "source": [
    "#\n",
    "animal = ['Human','cat','mat','cat','rat','Human','Lion']\n",
    "print(animal.count('Human'))\n",
    "print(animal.index('rat'))\n",
    "print(len(animal))\n",
    "\n",
    "#Explanation:\n",
    "\n",
    "'''count('Human') returns the number of times \"Human\" appears in the list, which is 2.\n",
    "index('rat') returns the index of the first occurrence of \"rat\", which is 4.\n",
    "len(animal) returns the length of the list, which is 7.'''"
   ]
  },
  {
   "cell_type": "code",
   "execution_count": 6,
   "id": "2da24d5a-091a-4036-b81a-b4f85b8f71e9",
   "metadata": {},
   "outputs": [
    {
     "name": "stdout",
     "output_type": "stream",
     "text": [
      "8\n",
      "Navneet\n",
      "1\n",
      "['j']\n",
      "22\n"
     ]
    }
   ],
   "source": [
    "tuple1 = (10, 20, \"Apple\", 3.4, 'a', [\"master\", ['j']], ('sita','geeta',22), [{\"roll_no\":1}, {\"name\":\"Navneet\"}])\n",
    "\n",
    "# a) print(len(tuple1))\n",
    "print(len(tuple1))  # Output: 8\n",
    "\n",
    "# b) print(tuple1[-1][-1]['name'])\n",
    "print(tuple1[-1][-1]['name'])  # Output: Navneet\n",
    "\n",
    "# c) Fetch the value of roll_no from this tuple.\n",
    "print(tuple1[-1][0]['roll_no'])  # Output: 1\n",
    "\n",
    "# d) print(tuple1[-3][1])\n",
    "print(tuple1[-3][1])  # Output: j\n",
    "\n",
    "# e) Fetch the element \"22\" from this tuple.\n",
    "print(tuple1[-2][-1])  # Output: 22\n"
   ]
  },
  {
   "cell_type": "code",
   "execution_count": 7,
   "id": "01255b12-4655-4baf-908f-37fef70493e1",
   "metadata": {},
   "outputs": [
    {
     "name": "stdin",
     "output_type": "stream",
     "text": [
      "Enter the signal color (RED/Yellow/Green):  RED\n"
     ]
    },
    {
     "name": "stdout",
     "output_type": "stream",
     "text": [
      "Stop\n"
     ]
    }
   ],
   "source": [
    "signal = input(\"Enter the signal color (RED/Yellow/Green): \").lower()\n",
    "\n",
    "if signal == \"red\":\n",
    "    print(\"Stop\")\n",
    "elif signal == \"yellow\":\n",
    "    print(\"Stay\")\n",
    "elif signal == \"green\":\n",
    "    print(\"Go\")\n",
    "else:\n",
    "    print(\"Invalid color\")\n"
   ]
  },
  {
   "cell_type": "code",
   "execution_count": 8,
   "id": "5c8ac604-aacb-4427-9c23-c89618fe4f5d",
   "metadata": {},
   "outputs": [
    {
     "name": "stdin",
     "output_type": "stream",
     "text": [
      "Enter first number:  2\n",
      "Enter second number:  3\n",
      "Enter operation (+, -, *, /):  *\n"
     ]
    },
    {
     "name": "stdout",
     "output_type": "stream",
     "text": [
      "Result: 6.0\n"
     ]
    }
   ],
   "source": [
    "def calculator(a, b, operation):\n",
    "    if operation == '+':\n",
    "        return a + b\n",
    "    elif operation == '-':\n",
    "        return a - b\n",
    "    elif operation == '*':\n",
    "        return a * b\n",
    "    elif operation == '/':\n",
    "        if b != 0:\n",
    "            return a / b\n",
    "        else:\n",
    "            return \"Division by zero error\"\n",
    "    else:\n",
    "        return \"Invalid operation\"\n",
    "\n",
    "a = float(input(\"Enter first number: \"))\n",
    "b = float(input(\"Enter second number: \"))\n",
    "operation = input(\"Enter operation (+, -, *, /): \")\n",
    "print(\"Result:\", calculator(a, b, operation))\n"
   ]
  },
  {
   "cell_type": "code",
   "execution_count": 9,
   "id": "13bb9306-f274-4104-8165-f8f1eed4ef09",
   "metadata": {},
   "outputs": [
    {
     "name": "stdout",
     "output_type": "stream",
     "text": [
      "The largest number is: 30\n"
     ]
    }
   ],
   "source": [
    "a = 10\n",
    "b = 20\n",
    "c = 30\n",
    "\n",
    "largest = a if (a > b and a > c) else (b if b > c else c)\n",
    "print(\"The largest number is:\", largest)\n"
   ]
  },
  {
   "cell_type": "code",
   "execution_count": null,
   "id": "32cfee41-5c45-4f9e-8449-f846ab099431",
   "metadata": {},
   "outputs": [
    {
     "name": "stdin",
     "output_type": "stream",
     "text": [
      "Enter a number:  2\n"
     ]
    },
    {
     "name": "stdout",
     "output_type": "stream",
     "text": [
      "Factors of 2 are: 1 2 "
     ]
    }
   ],
   "source": [
    "number = int(input(\"Enter a number: \"))\n",
    "i = 1\n",
    "print(f\"Factors of {number} are:\", end=\" \")\n",
    "\n",
    "while i <= number:\n",
    "    if number % i == 0:\n",
    "        print(i, end=\" \")\n",
    "    i += 1\n"
   ]
  },
  {
   "cell_type": "code",
   "execution_count": 11,
   "id": "79710644-2b2d-4af9-99ce-d4ec5e94f468",
   "metadata": {},
   "outputs": [
    {
     "name": "stdin",
     "output_type": "stream",
     "text": [
      "Enter a number (negative to stop):  2\n",
      "Enter a number (negative to stop):  3\n",
      "Enter a number (negative to stop):  2\n",
      "Enter a number (negative to stop):  0\n",
      "Enter a number (negative to stop):  -4\n"
     ]
    },
    {
     "name": "stdout",
     "output_type": "stream",
     "text": [
      "Sum of positive numbers: 7\n"
     ]
    }
   ],
   "source": [
    "total = 0\n",
    "\n",
    "while True:\n",
    "    number = int(input(\"Enter a number (negative to stop): \"))\n",
    "    if number < 0:\n",
    "        break\n",
    "    total += number\n",
    "\n",
    "print(\"Sum of positive numbers:\", total)\n"
   ]
  },
  {
   "cell_type": "code",
   "execution_count": 12,
   "id": "f9107b91-b25a-4d0f-a1ba-5cc338895022",
   "metadata": {},
   "outputs": [
    {
     "name": "stdout",
     "output_type": "stream",
     "text": [
      "2 3 5 7 11 13 17 19 23 29 31 37 41 43 47 53 59 61 67 71 73 79 83 89 97 "
     ]
    }
   ],
   "source": [
    "for num in range(2, 101):\n",
    "    is_prime = True\n",
    "    for i in range(2, int(num ** 0.5) + 1):\n",
    "        if num % i == 0:\n",
    "            is_prime = False\n",
    "            break\n",
    "    if is_prime:\n",
    "        print(num, end=\" \")\n"
   ]
  },
  {
   "cell_type": "code",
   "execution_count": 13,
   "id": "c40db643-21a7-44c8-a731-c8363f576903",
   "metadata": {},
   "outputs": [
    {
     "name": "stdin",
     "output_type": "stream",
     "text": [
      "Enter marks for Math:  33\n",
      "Enter marks for Science:  44\n",
      "Enter marks for English:  33\n",
      "Enter marks for History:  22\n",
      "Enter marks for Geography:  34\n"
     ]
    },
    {
     "name": "stdout",
     "output_type": "stream",
     "text": [
      "Total Marks: 166\n",
      "Percentage: 33.2%\n",
      "Grade: D\n"
     ]
    }
   ],
   "source": [
    "# Accept marks for five major subjects\n",
    "subjects = [\"Math\", \"Science\", \"English\", \"History\", \"Geography\"]\n",
    "marks = []\n",
    "\n",
    "for subject in subjects:\n",
    "    mark = int(input(f\"Enter marks for {subject}: \"))\n",
    "    marks.append(mark)\n",
    "\n",
    "# Calculate the sum and percentage\n",
    "total_marks = sum(marks)\n",
    "percentage = total_marks / len(subjects)\n",
    "\n",
    "print(f\"Total Marks: {total_marks}\")\n",
    "print(f\"Percentage: {percentage}%\")\n",
    "\n",
    "# Determine grade using match-case\n",
    "match percentage:\n",
    "    case p if p > 85:\n",
    "        grade = 'A'\n",
    "    case p if 75 <= p <= 85:\n",
    "        grade = 'B'\n",
    "    case p if 50 <= p < 75:\n",
    "        grade = 'C'\n",
    "    case p if 30 < p < 50:\n",
    "        grade = 'D'\n",
    "    case _:\n",
    "        grade = 'Reappear'\n",
    "\n",
    "print(f\"Grade: {grade}\")\n"
   ]
  },
  {
   "cell_type": "markdown",
   "id": "fb14de99-4180-4554-84b5-353f117eeef6",
   "metadata": {},
   "source": [
    "1.13: VIBGYOR Spectrum Based on Wavelength"
   ]
  },
  {
   "cell_type": "code",
   "execution_count": 14,
   "id": "31ec2c47-51fc-43c2-9714-c679a2fbcf11",
   "metadata": {},
   "outputs": [
    {
     "name": "stdin",
     "output_type": "stream",
     "text": [
      "Enter the wavelength in nm:  22\n"
     ]
    },
    {
     "name": "stdout",
     "output_type": "stream",
     "text": [
      "The color corresponding to wavelength 22.0 nm is Wavelength out of range.\n"
     ]
    }
   ],
   "source": [
    "def identify_color(wavelength):\n",
    "    if 400.0 <= wavelength <= 440.0:\n",
    "        return \"Violet\"\n",
    "    elif 440.0 < wavelength <= 460.0:\n",
    "        return \"Indigo\"\n",
    "    elif 460.0 < wavelength <= 500.0:\n",
    "        return \"Blue\"\n",
    "    elif 500.0 < wavelength <= 570.0:\n",
    "        return \"Green\"\n",
    "    elif 570.0 < wavelength <= 590.0:\n",
    "        return \"Yellow\"\n",
    "    elif 590.0 < wavelength <= 620.0:\n",
    "        return \"Orange\"\n",
    "    elif 620.0 < wavelength <= 720.0:\n",
    "        return \"Red\"\n",
    "    else:\n",
    "        return \"Wavelength out of range\"\n",
    "\n",
    "# Example usage:\n",
    "wavelength = float(input(\"Enter the wavelength in nm: \"))\n",
    "color = identify_color(wavelength)\n",
    "print(f\"The color corresponding to wavelength {wavelength} nm is {color}.\")\n"
   ]
  },
  {
   "cell_type": "markdown",
   "id": "4af8b2b6-aa85-4979-90d9-7685dee9ca2f",
   "metadata": {},
   "source": [
    "1.14: Gravitational Forces Between Earth, Moon, and Sun"
   ]
  },
  {
   "cell_type": "code",
   "execution_count": 15,
   "id": "4367c351-c4bc-4f69-b198-778db7b471b4",
   "metadata": {},
   "outputs": [
    {
     "name": "stdout",
     "output_type": "stream",
     "text": [
      "Gravitational force between Earth and Sun: 3.54e+22 N\n",
      "Gravitational force between Moon and Earth: 1.98e+20 N\n",
      "The stronger gravitational attraction is between Earth and Sun.\n"
     ]
    }
   ],
   "source": [
    "\n",
    "G = 6.674e-11  # gravitational constant in Nm^2/kg^2\n",
    "\n",
    "mass_earth = 5.972e24  # in kg\n",
    "mass_moon = 7.34767309e22  # in kg\n",
    "mass_sun = 1.989e30  # in kg\n",
    "\n",
    "distance_earth_sun = 1.496e11  # in meters\n",
    "distance_moon_earth = 3.844e8  # in meters\n",
    "\n",
    "# Gravitational force between Earth and Sun\n",
    "force_earth_sun = G * (mass_earth * mass_sun) / (distance_earth_sun ** 2)\n",
    "\n",
    "# Gravitational force between Moon and Earth\n",
    "force_moon_earth = G * (mass_moon * mass_earth) / (distance_moon_earth ** 2)\n",
    "\n",
    "# Compare the forces\n",
    "if force_earth_sun > force_moon_earth:\n",
    "    stronger_attraction = \"Earth and Sun\"\n",
    "else:\n",
    "    stronger_attraction = \"Moon and Earth\"\n",
    "\n",
    "print(f\"Gravitational force between Earth and Sun: {force_earth_sun:.2e} N\")\n",
    "print(f\"Gravitational force between Moon and Earth: {force_moon_earth:.2e} N\")\n",
    "print(f\"The stronger gravitational attraction is between {stronger_attraction}.\")\n"
   ]
  },
  {
   "cell_type": "markdown",
   "id": "c1c67b70-242f-4130-9d6a-186941698ba7",
   "metadata": {},
   "source": [
    "2. Student Information Management Using OOP"
   ]
  },
  {
   "cell_type": "code",
   "execution_count": 16,
   "id": "5abdc4d7-c7bb-4ceb-98e5-e8d4f212ac10",
   "metadata": {},
   "outputs": [
    {
     "name": "stdout",
     "output_type": "stream",
     "text": [
      "Name: John Doe, Age: 20, Roll Number: A001\n",
      "Name: Johnathan Doe, Age: 21, Roll Number: A002\n"
     ]
    }
   ],
   "source": [
    "class Student:\n",
    "    def __init__(self, name, age, roll_number):\n",
    "        self.__name = name\n",
    "        self.__age = age\n",
    "        self.__roll_number = roll_number\n",
    "    \n",
    "    # Getter methods\n",
    "    def get_name(self):\n",
    "        return self.__name\n",
    "    \n",
    "    def get_age(self):\n",
    "        return self.__age\n",
    "    \n",
    "    def get_roll_number(self):\n",
    "        return self.__roll_number\n",
    "    \n",
    "    # Setter methods\n",
    "    def set_name(self, name):\n",
    "        self.__name = name\n",
    "    \n",
    "    def set_age(self, age):\n",
    "        self.__age = age\n",
    "    \n",
    "    def set_roll_number(self, roll_number):\n",
    "        self.__roll_number = roll_number\n",
    "    \n",
    "    # Method to display student information\n",
    "    def display_info(self):\n",
    "        print(f\"Name: {self.__name}, Age: {self.__age}, Roll Number: {self.__roll_number}\")\n",
    "    \n",
    "    # Method to update student details\n",
    "    def update_details(self, name=None, age=None, roll_number=None):\n",
    "        if name:\n",
    "            self.__name = name\n",
    "        if age:\n",
    "            self.__age = age\n",
    "        if roll_number:\n",
    "            self.__roll_number = roll_number\n",
    "\n",
    "# Example usage\n",
    "student1 = Student(\"John Doe\", 20, \"A001\")\n",
    "student1.display_info()\n",
    "\n",
    "student1.set_age(21)\n",
    "student1.update_details(name=\"Johnathan Doe\", roll_number=\"A002\")\n",
    "student1.display_info()\n"
   ]
  },
  {
   "cell_type": "markdown",
   "id": "a9845e9b-aa0e-47b8-a7d7-f01cefed6cb6",
   "metadata": {},
   "source": [
    "3. Library Resource Management Using OOP"
   ]
  },
  {
   "cell_type": "code",
   "execution_count": 17,
   "id": "6793ef08-5ed1-47da-a6a3-542738ddfe60",
   "metadata": {},
   "outputs": [
    {
     "name": "stdout",
     "output_type": "stream",
     "text": [
      "You have successfully borrowed '1984'.\n",
      "You have successfully returned '1984'.\n"
     ]
    }
   ],
   "source": [
    "class LibraryBook:\n",
    "    def __init__(self, book_name, author, availability=True):\n",
    "        self.__book_name = book_name\n",
    "        self.__author = author\n",
    "        self.__availability = availability\n",
    "    \n",
    "    # Getter method\n",
    "    def is_available(self):\n",
    "        return self.__availability\n",
    "    \n",
    "    # Borrow book method\n",
    "    def borrow_book(self):\n",
    "        if self.__availability:\n",
    "            self.__availability = False\n",
    "            print(f\"You have successfully borrowed '{self.__book_name}'.\")\n",
    "        else:\n",
    "            print(f\"'{self.__book_name}' is currently unavailable.\")\n",
    "    \n",
    "    # Return book method\n",
    "    def return_book(self):\n",
    "        if not self.__availability:\n",
    "            self.__availability = True\n",
    "            print(f\"You have successfully returned '{self.__book_name}'.\")\n",
    "        else:\n",
    "            print(f\"'{self.__book_name}' was not borrowed.\")\n",
    "\n",
    "# Example usage\n",
    "book1 = LibraryBook(\"1984\", \"George Orwell\")\n",
    "book1.borrow_book()\n",
    "book1.return_book()\n"
   ]
  },
  {
   "cell_type": "markdown",
   "id": "c4551878-9631-479b-a4fe-f3c158666910",
   "metadata": {},
   "source": [
    "4. Simple Banking System Using OOP"
   ]
  },
  {
   "cell_type": "code",
   "execution_count": 18,
   "id": "275acf11-47d1-4fb0-8684-a5b611cfe69d",
   "metadata": {},
   "outputs": [
    {
     "name": "stdout",
     "output_type": "stream",
     "text": [
      "Deposited $1000. New balance: $1000.\n",
      "Deposited $50.0. New balance: $1050.0.\n",
      "Withdrew $200. New balance: $-200.\n"
     ]
    }
   ],
   "source": [
    "class BankAccount:\n",
    "    def __init__(self, account_number, balance=0):\n",
    "        self.__account_number = account_number\n",
    "        self.__balance = balance\n",
    "    \n",
    "    def deposit(self, amount):\n",
    "        self.__balance += amount\n",
    "        print(f\"Deposited ${amount}. New balance: ${self.__balance}.\")\n",
    "    \n",
    "    def withdraw(self, amount):\n",
    "        if self.__balance >= amount:\n",
    "            self.__balance -= amount\n",
    "            print(f\"Withdrew ${amount}. New balance: ${self.__balance}.\")\n",
    "        else:\n",
    "            print(\"Insufficient funds.\")\n",
    "    \n",
    "    def get_balance(self):\n",
    "        return self.__balance\n",
    "\n",
    "class SavingsAccount(BankAccount):\n",
    "    def __init__(self, account_number, interest_rate, balance=0):\n",
    "        super().__init__(account_number, balance)\n",
    "        self.__interest_rate = interest_rate\n",
    "    \n",
    "    def add_interest(self):\n",
    "        interest = self.get_balance() * self.__interest_rate\n",
    "        self.deposit(interest)\n",
    "\n",
    "class CheckingAccount(BankAccount):\n",
    "    def __init__(self, account_number, overdraft_limit, balance=0):\n",
    "        super().__init__(account_number, balance)\n",
    "        self.__overdraft_limit = overdraft_limit\n",
    "    \n",
    "    def withdraw(self, amount):\n",
    "        if self.get_balance() + self.__overdraft_limit >= amount:\n",
    "            self._BankAccount__balance -= amount\n",
    "            print(f\"Withdrew ${amount}. New balance: ${self._BankAccount__balance}.\")\n",
    "        else:\n",
    "            print(\"Overdraft limit exceeded.\")\n",
    "\n",
    "# Example usage\n",
    "savings = SavingsAccount(\"S123\", 0.05)\n",
    "savings.deposit(1000)\n",
    "savings.add_interest()\n",
    "\n",
    "checking = CheckingAccount(\"C123\", 500)\n",
    "checking.withdraw(200)\n"
   ]
  },
  {
   "cell_type": "markdown",
   "id": "d5abd098-0e1c-4ffc-89c1-9a32e94eeb8a",
   "metadata": {},
   "source": [
    "5. Animal Sound Program Using OOP"
   ]
  },
  {
   "cell_type": "code",
   "execution_count": 19,
   "id": "2fa8d14f-0ceb-4cc2-93df-2968640761af",
   "metadata": {},
   "outputs": [
    {
     "name": "stdout",
     "output_type": "stream",
     "text": [
      "Woof!\n",
      "Meow!\n"
     ]
    }
   ],
   "source": [
    "class Animal:\n",
    "    def make_sound(self):\n",
    "        raise NotImplementedError(\"Subclasses should implement this!\")\n",
    "\n",
    "class Dog(Animal):\n",
    "    def make_sound(self):\n",
    "        return \"Woof!\"\n",
    "\n",
    "class Cat(Animal):\n",
    "    def make_sound(self):\n",
    "        return \"Meow!\"\n",
    "\n",
    "# Example usage\n",
    "dog = Dog()\n",
    "cat = Cat()\n",
    "print(dog.make_sound())  # Output: Woof!\n",
    "print(cat.make_sound())  # Output: Meow!\n"
   ]
  },
  {
   "cell_type": "markdown",
   "id": "a4fd7d21-491e-455d-8974-aebc669aa8b4",
   "metadata": {},
   "source": [
    "6. Restaurant Management System Using OOP"
   ]
  },
  {
   "cell_type": "code",
   "execution_count": 20,
   "id": "b1a7ea1d-8cdd-422d-af96-601bfe09e73a",
   "metadata": {},
   "outputs": [
    {
     "name": "stdout",
     "output_type": "stream",
     "text": [
      "Burger - Food: $5.99\n",
      "Description: A juicy beef burger\n"
     ]
    }
   ],
   "source": [
    "class MenuItem:\n",
    "    def __init__(self, name, description, price, category):\n",
    "        self.__name = name\n",
    "        self.__description = description\n",
    "        self.__price = price\n",
    "        self.__category = category\n",
    "    \n",
    "    def update_item(self, name=None, description=None, price=None, category=None):\n",
    "        if name:\n",
    "            self.__name = name\n",
    "        if description:\n",
    "            self.__description = description\n",
    "        if price:\n",
    "            self.__price = price\n",
    "        if category:\n",
    "            self.__category = category\n",
    "    \n",
    "    def display_item(self):\n",
    "        return f\"{self.__name} - {self.__category}: ${self.__price}\\nDescription: {self.__description}\"\n",
    "\n",
    "class FoodItem(MenuItem):\n",
    "    pass\n",
    "\n",
    "class BeverageItem(MenuItem):\n",
    "    pass\n",
    "\n",
    "# Example usage\n",
    "food_item = FoodItem(\"Burger\", \"A juicy beef burger\", 5.99, \"Food\")\n",
    "print(food_item.display_item())\n"
   ]
  },
  {
   "cell_type": "markdown",
   "id": "d1fc604a-147b-4bd4-9fec-6f0cd3dee7d2",
   "metadata": {},
   "source": [
    "7. Hotel Management System Using OOP"
   ]
  },
  {
   "cell_type": "code",
   "execution_count": 23,
   "id": "855c9aa8-b4a5-4a65-9672-a7d4705351f5",
   "metadata": {},
   "outputs": [
    {
     "name": "stdout",
     "output_type": "stream",
     "text": [
      "Room 101 is booked.\n",
      "Checked in to room 101.\n",
      "Room 102 is booked.\n",
      "Checked in to room 102.\n",
      "{'room_number': 101, 'room_type': 'Suite', 'rate': 150, 'availability': 'Occupied'}\n",
      "{'room_number': 102, 'room_type': 'Standard', 'rate': 100, 'availability': 'Occupied'}\n",
      "Checked out of room 101.\n",
      "Checked out of room 102.\n",
      "Room 101 was not occupied.\n"
     ]
    }
   ],
   "source": [
    "class Room:\n",
    "    def __init__(self, room_number, room_type, rate, availability=True):\n",
    "        self.__room_number = room_number\n",
    "        self.__room_type = room_type\n",
    "        self.__rate = rate\n",
    "        self.__availability = availability\n",
    "\n",
    "    def book_room(self):\n",
    "        if self.__availability:\n",
    "            self.__availability = False\n",
    "            print(f\"Room {self.__room_number} is booked.\")\n",
    "        else:\n",
    "            print(f\"Room {self.__room_number} is already booked.\")\n",
    "\n",
    "    def check_in(self):\n",
    "        if not self.__availability:\n",
    "            print(f\"Checked in to room {self.__room_number}.\")\n",
    "        else:\n",
    "            print(f\"Room {self.__room_number} is available but not yet booked.\")\n",
    "\n",
    "    def check_out(self):\n",
    "        if not self.__availability:\n",
    "            self.__availability = True\n",
    "            print(f\"Checked out of room {self.__room_number}.\")\n",
    "        else:\n",
    "            print(f\"Room {self.__room_number} was not occupied.\")\n",
    "\n",
    "    def get_room_details(self):\n",
    "        return {\n",
    "            \"room_number\": self.__room_number,\n",
    "            \"room_type\": self.__room_type,\n",
    "            \"rate\": self.__rate,\n",
    "            \"availability\": \"Available\" if self.__availability else \"Occupied\"\n",
    "        }\n",
    "\n",
    "class SuiteRoom(Room):\n",
    "    def __init__(self, room_number, rate, availability=True):\n",
    "        super().__init__(room_number, \"Suite\", rate, availability)\n",
    "\n",
    "class StandardRoom(Room):\n",
    "    def __init__(self, room_number, rate, availability=True):\n",
    "        super().__init__(room_number, \"Standard\", rate, availability)\n",
    "\n",
    "# Example usage:\n",
    "room1 = SuiteRoom(101, 150)\n",
    "room2 = StandardRoom(102, 100)\n",
    "\n",
    "# Book and check-in to the rooms\n",
    "room1.book_room()\n",
    "room1.check_in()\n",
    "\n",
    "room2.book_room()\n",
    "room2.check_in()\n",
    "\n",
    "# Get room details\n",
    "print(room1.get_room_details())\n",
    "print(room2.get_room_details())\n",
    "\n",
    "# Check-out from the rooms\n",
    "room1.check_out()\n",
    "room2.check_out()\n",
    "\n",
    "# Try to check-out again\n",
    "room1.check_out()\n"
   ]
  },
  {
   "cell_type": "markdown",
   "id": "aa77f757-c362-4cd6-ad6b-e98cbfb3a2be",
   "metadata": {},
   "source": [
    "9. Event Management System Using OOPS"
   ]
  },
  {
   "cell_type": "code",
   "execution_count": 1,
   "id": "50916303-c30c-42c1-8281-e6ea8f52b6ab",
   "metadata": {},
   "outputs": [
    {
     "name": "stdout",
     "output_type": "stream",
     "text": [
      "Total attendees: 1\n"
     ]
    }
   ],
   "source": [
    "class Event:\n",
    "    def __init__(self, name, date, time, location, attendees=None):\n",
    "        self.name = name\n",
    "        self.date = date\n",
    "        self.time = time\n",
    "        self.location = location\n",
    "        self.__attendees = attendees if attendees is not None else []\n",
    "        self.__id = id(self)\n",
    "    \n",
    "    def add_attendee(self, attendee):\n",
    "        self.__attendees.append(attendee)\n",
    "    \n",
    "    def remove_attendee(self, attendee):\n",
    "        if attendee in self.__attendees:\n",
    "            self.__attendees.remove(attendee)\n",
    "    \n",
    "    def get_attendee_count(self):\n",
    "        return len(self.__attendees)\n",
    "    \n",
    "    def get_event_id(self):\n",
    "        return self.__id\n",
    "\n",
    "\n",
    "class PrivateEvent(Event):\n",
    "    def __init__(self, name, date, time, location, attendees=None, invite_only=True):\n",
    "        super().__init__(name, date, time, location, attendees)\n",
    "        self.invite_only = invite_only\n",
    "\n",
    "\n",
    "class PublicEvent(Event):\n",
    "    def __init__(self, name, date, time, location, attendees=None, public=True):\n",
    "        super().__init__(name, date, time, location, attendees)\n",
    "        self.public = public\n",
    "\n",
    "\n",
    "# Example usage:\n",
    "event = PrivateEvent(\"Birthday Party\", \"2024-09-12\", \"18:00\", \"Home\")\n",
    "event.add_attendee(\"John Doe\")\n",
    "print(f\"Total attendees: {event.get_attendee_count()}\")\n"
   ]
  },
  {
   "cell_type": "markdown",
   "id": "16fdcf7e-5143-4fa9-aabb-aeb1a53347b2",
   "metadata": {},
   "source": [
    "10. Airline Reservation System Using OOPS"
   ]
  },
  {
   "cell_type": "code",
   "execution_count": 2,
   "id": "11ffcf0b-c9d8-45f2-b2ed-46fa35d0d33d",
   "metadata": {},
   "outputs": [
    {
     "name": "stdout",
     "output_type": "stream",
     "text": [
      "Remaining seats: 149\n"
     ]
    }
   ],
   "source": [
    "class Flight:\n",
    "    def __init__(self, flight_number, departure, arrival, dep_time, arr_time, seats):\n",
    "        self.flight_number = flight_number\n",
    "        self.departure = departure\n",
    "        self.arrival = arrival\n",
    "        self.dep_time = dep_time\n",
    "        self.arr_time = arr_time\n",
    "        self.__available_seats = seats\n",
    "        self.__id = id(self)\n",
    "    \n",
    "    def book_seat(self):\n",
    "        if self.__available_seats > 0:\n",
    "            self.__available_seats -= 1\n",
    "        else:\n",
    "            print(\"No seats available.\")\n",
    "    \n",
    "    def cancel_reservation(self):\n",
    "        self.__available_seats += 1\n",
    "    \n",
    "    def get_remaining_seats(self):\n",
    "        return self.__available_seats\n",
    "    \n",
    "    def get_flight_id(self):\n",
    "        return self.__id\n",
    "\n",
    "\n",
    "class DomesticFlight(Flight):\n",
    "    def __init__(self, flight_number, departure, arrival, dep_time, arr_time, seats):\n",
    "        super().__init__(flight_number, departure, arrival, dep_time, arr_time, seats)\n",
    "\n",
    "\n",
    "class InternationalFlight(Flight):\n",
    "    def __init__(self, flight_number, departure, arrival, dep_time, arr_time, seats):\n",
    "        super().__init__(flight_number, departure, arrival, dep_time, arr_time, seats)\n",
    "\n",
    "\n",
    "# Example usage:\n",
    "flight = DomesticFlight(\"AI202\", \"Delhi\", \"Mumbai\", \"10:00\", \"12:00\", 150)\n",
    "flight.book_seat()\n",
    "print(f\"Remaining seats: {flight.get_remaining_seats()}\")\n"
   ]
  },
  {
   "cell_type": "markdown",
   "id": "74793e7e-236a-48a2-b37e-23797b89bbbe",
   "metadata": {},
   "source": [
    "11. Define a Python module named constants.py"
   ]
  },
  {
   "cell_type": "code",
   "execution_count": 3,
   "id": "72d21815-eca8-47ab-bc20-ad4013bf162a",
   "metadata": {},
   "outputs": [],
   "source": [
    "# constants.py\n",
    "PI = 3.14159\n",
    "SPEED_OF_LIGHT = 299792458  # in m/s\n"
   ]
  },
  {
   "cell_type": "markdown",
   "id": "0cf8216e-47e4-413e-b211-8b0da236adb6",
   "metadata": {},
   "source": [
    "12. Write a Python module named calculator.py"
   ]
  },
  {
   "cell_type": "code",
   "execution_count": 4,
   "id": "191fd419-e087-4ce6-967d-ffa0e42951b7",
   "metadata": {},
   "outputs": [],
   "source": [
    "# calculator.py\n",
    "def add(a, b):\n",
    "    return a + b\n",
    "\n",
    "def subtract(a, b):\n",
    "    return a - b\n",
    "\n",
    "def multiply(a, b):\n",
    "    return a * b\n",
    "\n",
    "def divide(a, b):\n",
    "    if b != 0:\n",
    "        return a / b\n",
    "    else:\n",
    "        raise ValueError(\"Cannot divide by zero.\")\n"
   ]
  },
  {
   "cell_type": "markdown",
   "id": "efe9da0a-95d2-4bad-bda7-c6469f645482",
   "metadata": {},
   "source": [
    "13. Implement a Python package structure for a project named ecommerce"
   ]
  },
  {
   "cell_type": "code",
   "execution_count": 5,
   "id": "65d9f27c-bb06-40ec-91bf-1755f98c9efe",
   "metadata": {},
   "outputs": [],
   "source": [
    "'''ecommerce/\n",
    "│\n",
    "├── __init__.py\n",
    "├── product_management.py\n",
    "└── order_processing.py'''\n",
    "\n",
    "# product_management.py\n",
    "def add_product(product_name, price):\n",
    "    print(f\"Added product {product_name} with price {price}.\")\n",
    "\n"
   ]
  },
  {
   "cell_type": "markdown",
   "id": "c72773a6-6723-4c4d-ad80-4beef0888df9",
   "metadata": {},
   "source": [
    "14. Implement a Python module named string_utils.py"
   ]
  },
  {
   "cell_type": "code",
   "execution_count": 6,
   "id": "8bef148e-49ad-47a3-aff7-8b13fea616df",
   "metadata": {},
   "outputs": [],
   "source": [
    "# string_utils.py\n",
    "def reverse_string(s):\n",
    "    return s[::-1]\n",
    "\n",
    "def capitalize_string(s):\n",
    "    return s.capitalize()\n"
   ]
  },
  {
   "cell_type": "markdown",
   "id": "3774d1cd-0c78-44b4-9519-e0595f2820e8",
   "metadata": {},
   "source": [
    "15. Write a Python module named file_operations.py"
   ]
  },
  {
   "cell_type": "code",
   "execution_count": 7,
   "id": "c75d9223-cdad-4fd5-a048-96741943a0ed",
   "metadata": {},
   "outputs": [],
   "source": [
    "# file_operations.py\n",
    "def read_file(filename):\n",
    "    with open(filename, 'r') as file:\n",
    "        return file.read()\n",
    "\n",
    "def write_file(filename, data):\n",
    "    with open(filename, 'w') as file:\n",
    "        file.write(data)\n",
    "\n",
    "def append_file(filename, data):\n",
    "    with open(filename, 'a') as file:\n",
    "        file.write(data)\n"
   ]
  },
  {
   "cell_type": "markdown",
   "id": "a64fd941-39ae-4749-a3f9-70cbb19afcd8",
   "metadata": {},
   "source": [
    "16. Write a Python program to create a text file named \"employees.txt\""
   ]
  },
  {
   "cell_type": "code",
   "execution_count": 8,
   "id": "d6731aaf-700e-43dd-9463-bbbe6ef5deea",
   "metadata": {},
   "outputs": [],
   "source": [
    "with open(\"employees.txt\", \"w\") as file:\n",
    "    file.write(\"Name, Age, Salary\\n\")\n",
    "    file.write(\"John Doe, 30, 50000\\n\")\n",
    "    file.write(\"Jane Smith, 25, 60000\\n\")\n"
   ]
  },
  {
   "cell_type": "markdown",
   "id": "bda3eefb-6701-40cd-a8e1-bfdaff6bc854",
   "metadata": {},
   "source": [
    "17. Develop a Python script that opens \"inventory.txt\" and displays its contents"
   ]
  },
  {
   "cell_type": "code",
   "execution_count": 9,
   "id": "9745bd6e-dab4-466f-8bd2-21d6259229de",
   "metadata": {},
   "outputs": [
    {
     "ename": "FileNotFoundError",
     "evalue": "[Errno 2] No such file or directory: 'inventory.txt'",
     "output_type": "error",
     "traceback": [
      "\u001b[0;31m---------------------------------------------------------------------------\u001b[0m",
      "\u001b[0;31mFileNotFoundError\u001b[0m                         Traceback (most recent call last)",
      "Cell \u001b[0;32mIn[9], line 1\u001b[0m\n\u001b[0;32m----> 1\u001b[0m \u001b[38;5;28;01mwith\u001b[39;00m \u001b[38;5;28;43mopen\u001b[39;49m\u001b[43m(\u001b[49m\u001b[38;5;124;43m\"\u001b[39;49m\u001b[38;5;124;43minventory.txt\u001b[39;49m\u001b[38;5;124;43m\"\u001b[39;49m\u001b[43m,\u001b[49m\u001b[43m \u001b[49m\u001b[38;5;124;43m\"\u001b[39;49m\u001b[38;5;124;43mr\u001b[39;49m\u001b[38;5;124;43m\"\u001b[39;49m\u001b[43m)\u001b[49m \u001b[38;5;28;01mas\u001b[39;00m file:\n\u001b[1;32m      2\u001b[0m     \u001b[38;5;28;01mfor\u001b[39;00m line \u001b[38;5;129;01min\u001b[39;00m file:\n\u001b[1;32m      3\u001b[0m         \u001b[38;5;28mprint\u001b[39m(line\u001b[38;5;241m.\u001b[39mstrip())\n",
      "File \u001b[0;32m/opt/conda/lib/python3.10/site-packages/IPython/core/interactiveshell.py:282\u001b[0m, in \u001b[0;36m_modified_open\u001b[0;34m(file, *args, **kwargs)\u001b[0m\n\u001b[1;32m    275\u001b[0m \u001b[38;5;28;01mif\u001b[39;00m file \u001b[38;5;129;01min\u001b[39;00m {\u001b[38;5;241m0\u001b[39m, \u001b[38;5;241m1\u001b[39m, \u001b[38;5;241m2\u001b[39m}:\n\u001b[1;32m    276\u001b[0m     \u001b[38;5;28;01mraise\u001b[39;00m \u001b[38;5;167;01mValueError\u001b[39;00m(\n\u001b[1;32m    277\u001b[0m         \u001b[38;5;124mf\u001b[39m\u001b[38;5;124m\"\u001b[39m\u001b[38;5;124mIPython won\u001b[39m\u001b[38;5;124m'\u001b[39m\u001b[38;5;124mt let you open fd=\u001b[39m\u001b[38;5;132;01m{\u001b[39;00mfile\u001b[38;5;132;01m}\u001b[39;00m\u001b[38;5;124m by default \u001b[39m\u001b[38;5;124m\"\u001b[39m\n\u001b[1;32m    278\u001b[0m         \u001b[38;5;124m\"\u001b[39m\u001b[38;5;124mas it is likely to crash IPython. If you know what you are doing, \u001b[39m\u001b[38;5;124m\"\u001b[39m\n\u001b[1;32m    279\u001b[0m         \u001b[38;5;124m\"\u001b[39m\u001b[38;5;124myou can use builtins\u001b[39m\u001b[38;5;124m'\u001b[39m\u001b[38;5;124m open.\u001b[39m\u001b[38;5;124m\"\u001b[39m\n\u001b[1;32m    280\u001b[0m     )\n\u001b[0;32m--> 282\u001b[0m \u001b[38;5;28;01mreturn\u001b[39;00m \u001b[43mio_open\u001b[49m\u001b[43m(\u001b[49m\u001b[43mfile\u001b[49m\u001b[43m,\u001b[49m\u001b[43m \u001b[49m\u001b[38;5;241;43m*\u001b[39;49m\u001b[43margs\u001b[49m\u001b[43m,\u001b[49m\u001b[43m \u001b[49m\u001b[38;5;241;43m*\u001b[39;49m\u001b[38;5;241;43m*\u001b[39;49m\u001b[43mkwargs\u001b[49m\u001b[43m)\u001b[49m\n",
      "\u001b[0;31mFileNotFoundError\u001b[0m: [Errno 2] No such file or directory: 'inventory.txt'"
     ]
    }
   ],
   "source": [
    "with open(\"inventory.txt\", \"r\") as file:\n",
    "    for line in file:\n",
    "        print(line.strip())\n"
   ]
  },
  {
   "cell_type": "markdown",
   "id": "938f2068-18b6-4c7a-87e6-6c665b8a7810",
   "metadata": {},
   "source": [
    "18. Create a Python script that reads \"expenses.txt\" and calculates total expenses"
   ]
  },
  {
   "cell_type": "code",
   "execution_count": 10,
   "id": "3956f7ee-91ae-42e6-983d-50948d1952a0",
   "metadata": {},
   "outputs": [
    {
     "ename": "FileNotFoundError",
     "evalue": "[Errno 2] No such file or directory: 'expenses.txt'",
     "output_type": "error",
     "traceback": [
      "\u001b[0;31m---------------------------------------------------------------------------\u001b[0m",
      "\u001b[0;31mFileNotFoundError\u001b[0m                         Traceback (most recent call last)",
      "Cell \u001b[0;32mIn[10], line 2\u001b[0m\n\u001b[1;32m      1\u001b[0m total \u001b[38;5;241m=\u001b[39m \u001b[38;5;241m0\u001b[39m\n\u001b[0;32m----> 2\u001b[0m \u001b[38;5;28;01mwith\u001b[39;00m \u001b[38;5;28;43mopen\u001b[39;49m\u001b[43m(\u001b[49m\u001b[38;5;124;43m\"\u001b[39;49m\u001b[38;5;124;43mexpenses.txt\u001b[39;49m\u001b[38;5;124;43m\"\u001b[39;49m\u001b[43m,\u001b[49m\u001b[43m \u001b[49m\u001b[38;5;124;43m\"\u001b[39;49m\u001b[38;5;124;43mr\u001b[39;49m\u001b[38;5;124;43m\"\u001b[39;49m\u001b[43m)\u001b[49m \u001b[38;5;28;01mas\u001b[39;00m file:\n\u001b[1;32m      3\u001b[0m     \u001b[38;5;28;01mfor\u001b[39;00m line \u001b[38;5;129;01min\u001b[39;00m file:\n\u001b[1;32m      4\u001b[0m         amount \u001b[38;5;241m=\u001b[39m \u001b[38;5;28mfloat\u001b[39m(line\u001b[38;5;241m.\u001b[39mstrip())\n",
      "File \u001b[0;32m/opt/conda/lib/python3.10/site-packages/IPython/core/interactiveshell.py:282\u001b[0m, in \u001b[0;36m_modified_open\u001b[0;34m(file, *args, **kwargs)\u001b[0m\n\u001b[1;32m    275\u001b[0m \u001b[38;5;28;01mif\u001b[39;00m file \u001b[38;5;129;01min\u001b[39;00m {\u001b[38;5;241m0\u001b[39m, \u001b[38;5;241m1\u001b[39m, \u001b[38;5;241m2\u001b[39m}:\n\u001b[1;32m    276\u001b[0m     \u001b[38;5;28;01mraise\u001b[39;00m \u001b[38;5;167;01mValueError\u001b[39;00m(\n\u001b[1;32m    277\u001b[0m         \u001b[38;5;124mf\u001b[39m\u001b[38;5;124m\"\u001b[39m\u001b[38;5;124mIPython won\u001b[39m\u001b[38;5;124m'\u001b[39m\u001b[38;5;124mt let you open fd=\u001b[39m\u001b[38;5;132;01m{\u001b[39;00mfile\u001b[38;5;132;01m}\u001b[39;00m\u001b[38;5;124m by default \u001b[39m\u001b[38;5;124m\"\u001b[39m\n\u001b[1;32m    278\u001b[0m         \u001b[38;5;124m\"\u001b[39m\u001b[38;5;124mas it is likely to crash IPython. If you know what you are doing, \u001b[39m\u001b[38;5;124m\"\u001b[39m\n\u001b[1;32m    279\u001b[0m         \u001b[38;5;124m\"\u001b[39m\u001b[38;5;124myou can use builtins\u001b[39m\u001b[38;5;124m'\u001b[39m\u001b[38;5;124m open.\u001b[39m\u001b[38;5;124m\"\u001b[39m\n\u001b[1;32m    280\u001b[0m     )\n\u001b[0;32m--> 282\u001b[0m \u001b[38;5;28;01mreturn\u001b[39;00m \u001b[43mio_open\u001b[49m\u001b[43m(\u001b[49m\u001b[43mfile\u001b[49m\u001b[43m,\u001b[49m\u001b[43m \u001b[49m\u001b[38;5;241;43m*\u001b[39;49m\u001b[43margs\u001b[49m\u001b[43m,\u001b[49m\u001b[43m \u001b[49m\u001b[38;5;241;43m*\u001b[39;49m\u001b[38;5;241;43m*\u001b[39;49m\u001b[43mkwargs\u001b[49m\u001b[43m)\u001b[49m\n",
      "\u001b[0;31mFileNotFoundError\u001b[0m: [Errno 2] No such file or directory: 'expenses.txt'"
     ]
    }
   ],
   "source": [
    "total = 0\n",
    "with open(\"expenses.txt\", \"r\") as file:\n",
    "    for line in file:\n",
    "        amount = float(line.strip())\n",
    "        total += amount\n",
    "\n",
    "print(f\"Total expenses: {total}\")\n"
   ]
  },
  {
   "cell_type": "markdown",
   "id": "dacf0f7c-4bd1-4fd6-aaec-d560e8053f86",
   "metadata": {},
   "source": [
    "19. Create a Python program that reads \"paragraph.txt\" and counts word occurrences"
   ]
  },
  {
   "cell_type": "code",
   "execution_count": 11,
   "id": "a998d91e-62fc-49de-ac17-3f2a8bd35c07",
   "metadata": {},
   "outputs": [
    {
     "ename": "FileNotFoundError",
     "evalue": "[Errno 2] No such file or directory: 'paragraph.txt'",
     "output_type": "error",
     "traceback": [
      "\u001b[0;31m---------------------------------------------------------------------------\u001b[0m",
      "\u001b[0;31mFileNotFoundError\u001b[0m                         Traceback (most recent call last)",
      "Cell \u001b[0;32mIn[11], line 3\u001b[0m\n\u001b[1;32m      1\u001b[0m \u001b[38;5;28;01mfrom\u001b[39;00m \u001b[38;5;21;01mcollections\u001b[39;00m \u001b[38;5;28;01mimport\u001b[39;00m Counter\n\u001b[0;32m----> 3\u001b[0m \u001b[38;5;28;01mwith\u001b[39;00m \u001b[38;5;28;43mopen\u001b[39;49m\u001b[43m(\u001b[49m\u001b[38;5;124;43m\"\u001b[39;49m\u001b[38;5;124;43mparagraph.txt\u001b[39;49m\u001b[38;5;124;43m\"\u001b[39;49m\u001b[43m,\u001b[49m\u001b[43m \u001b[49m\u001b[38;5;124;43m\"\u001b[39;49m\u001b[38;5;124;43mr\u001b[39;49m\u001b[38;5;124;43m\"\u001b[39;49m\u001b[43m)\u001b[49m \u001b[38;5;28;01mas\u001b[39;00m file:\n\u001b[1;32m      4\u001b[0m     words \u001b[38;5;241m=\u001b[39m file\u001b[38;5;241m.\u001b[39mread()\u001b[38;5;241m.\u001b[39msplit()\n\u001b[1;32m      6\u001b[0m word_count \u001b[38;5;241m=\u001b[39m Counter(words)\n",
      "File \u001b[0;32m/opt/conda/lib/python3.10/site-packages/IPython/core/interactiveshell.py:282\u001b[0m, in \u001b[0;36m_modified_open\u001b[0;34m(file, *args, **kwargs)\u001b[0m\n\u001b[1;32m    275\u001b[0m \u001b[38;5;28;01mif\u001b[39;00m file \u001b[38;5;129;01min\u001b[39;00m {\u001b[38;5;241m0\u001b[39m, \u001b[38;5;241m1\u001b[39m, \u001b[38;5;241m2\u001b[39m}:\n\u001b[1;32m    276\u001b[0m     \u001b[38;5;28;01mraise\u001b[39;00m \u001b[38;5;167;01mValueError\u001b[39;00m(\n\u001b[1;32m    277\u001b[0m         \u001b[38;5;124mf\u001b[39m\u001b[38;5;124m\"\u001b[39m\u001b[38;5;124mIPython won\u001b[39m\u001b[38;5;124m'\u001b[39m\u001b[38;5;124mt let you open fd=\u001b[39m\u001b[38;5;132;01m{\u001b[39;00mfile\u001b[38;5;132;01m}\u001b[39;00m\u001b[38;5;124m by default \u001b[39m\u001b[38;5;124m\"\u001b[39m\n\u001b[1;32m    278\u001b[0m         \u001b[38;5;124m\"\u001b[39m\u001b[38;5;124mas it is likely to crash IPython. If you know what you are doing, \u001b[39m\u001b[38;5;124m\"\u001b[39m\n\u001b[1;32m    279\u001b[0m         \u001b[38;5;124m\"\u001b[39m\u001b[38;5;124myou can use builtins\u001b[39m\u001b[38;5;124m'\u001b[39m\u001b[38;5;124m open.\u001b[39m\u001b[38;5;124m\"\u001b[39m\n\u001b[1;32m    280\u001b[0m     )\n\u001b[0;32m--> 282\u001b[0m \u001b[38;5;28;01mreturn\u001b[39;00m \u001b[43mio_open\u001b[49m\u001b[43m(\u001b[49m\u001b[43mfile\u001b[49m\u001b[43m,\u001b[49m\u001b[43m \u001b[49m\u001b[38;5;241;43m*\u001b[39;49m\u001b[43margs\u001b[49m\u001b[43m,\u001b[49m\u001b[43m \u001b[49m\u001b[38;5;241;43m*\u001b[39;49m\u001b[38;5;241;43m*\u001b[39;49m\u001b[43mkwargs\u001b[49m\u001b[43m)\u001b[49m\n",
      "\u001b[0;31mFileNotFoundError\u001b[0m: [Errno 2] No such file or directory: 'paragraph.txt'"
     ]
    }
   ],
   "source": [
    "from collections import Counter\n",
    "\n",
    "with open(\"paragraph.txt\", \"r\") as file:\n",
    "    words = file.read().split()\n",
    "\n",
    "word_count = Counter(words)\n",
    "for word, count in sorted(word_count.items()):\n",
    "    print(f\"{word}: {count}\")\n"
   ]
  },
  {
   "cell_type": "markdown",
   "id": "e6970ba4-bef0-4dcd-9b96-50c8ed1a6093",
   "metadata": {},
   "source": [
    "20. What do you mean by Measure of Central Tendency and Measures of Dispersion? How can it be calculated?"
   ]
  },
  {
   "cell_type": "markdown",
   "id": "9940464f-bc77-4c6f-98eb-daeff8795797",
   "metadata": {},
   "source": [
    "'''Measure of Central Tendency refers to a single value that attempts to describe a set of data by identifying the central position within that set of data. The three most common measures of central tendency are:\n",
    "\n",
    "Mean: The average of all data points.\n",
    "Median: The middle value when data points are arranged in ascending or descending order.\n",
    "Mode: The most frequently occurring value in a dataset.\n",
    "Measures of Dispersion describe the spread or variability of the data points in a dataset. Common measures of dispersion include:\n",
    "\n",
    "Range: The difference between the maximum and minimum values.\n",
    "Variance: The average squared deviation from the mean.\n",
    "Standard Deviation: The square root of the variance, representing average distance from the mean.\n",
    "\n",
    "Calculation:\n",
    "Mean: Mean = Sum of all values / Number of values\n",
    "\n",
    "Median:\n",
    "\n",
    "Arrange data points in order.\n",
    "Select the middle value.\n",
    "Mode:\n",
    "\n",
    "The value that appears most frequently in the dataset.\n",
    "Range: Range = Maximum value - Minimum value\n",
    "\n",
    "Variance: Variance = Sum of (Each value - Mean)^2 / Number of values\n",
    "\n",
    "Standard Deviation: SD = Square root of Variance'''\n",
    "\n"
   ]
  },
  {
   "cell_type": "markdown",
   "id": "a8fb8904-1da2-4d95-b333-6970825cfe1b",
   "metadata": {},
   "source": [
    "21. What do you mean by skewness? Explain its types. Use graph to show."
   ]
  },
  {
   "cell_type": "markdown",
   "id": "e1d5886a-f771-44f3-b683-9b51a0a7fd41",
   "metadata": {},
   "source": [
    "Skewness refers to the asymmetry in the distribution of data. It indicates whether the data points tend to cluster on one side of the mean. There are two main types of skewness:\n",
    "\n",
    "Positive Skew (Right Skew): The right tail (larger values) is longer or fatter than the left tail. Most data points are concentrated on the left side of the distribution.\n",
    "\n",
    "Negative Skew (Left Skew): The left tail (smaller values) is longer or fatter than the right tail. Most data points are concentrated on the right side of the distribution.'''\n",
    "\n",
    "'''Positive Skew:         |----\\_____\n",
    "Negative Skew:   _____/----|\n"
   ]
  },
  {
   "cell_type": "markdown",
   "id": "a6f590e9-19a6-4567-adc3-0a909af4e5b9",
   "metadata": {},
   "source": [
    "22. Explain Probability Mass Function (PMF) and Probability Density Function (PDF). What is the difference between them?"
   ]
  },
  {
   "cell_type": "markdown",
   "id": "b4b93bb7-5722-448c-8bc6-d96cf5462214",
   "metadata": {},
   "source": [
    "Probability Mass Function (PMF): Used for discrete random variables, PMF gives the probability that a discrete random variable is exactly equal to a particular value.\n",
    "\n",
    "Probability Density Function (PDF): Used for continuous random variables, PDF describes the likelihood of a random variable to take on a particular value. However, since the probability at a specific point is 0 for continuous variables, PDF gives the probability over an interval.\n",
    "\n",
    "Difference:\n",
    "\n",
    "PMF is used for discrete data, while PDF is used for continuous data.\n",
    "PMF gives exact probabilities, while PDF gives probability densities."
   ]
  },
  {
   "cell_type": "markdown",
   "id": "2eedc540-e3cd-4309-8b7e-e1ba54b3d75c",
   "metadata": {},
   "source": [
    "23. What is correlation? Explain its types in detail. What are the methods of determining correlation?\n",
    "Correlation measures the strength and direction of a linear relationship between two variables."
   ]
  },
  {
   "cell_type": "markdown",
   "id": "2e116a10-7c94-402a-9a67-f1e22df4f8a6",
   "metadata": {},
   "source": [
    "\n",
    "\n",
    "Types of Correlation:\n",
    "\n",
    "Positive Correlation: Both variables move in the same direction.\n",
    "Negative Correlation: One variable increases while the other decreases.\n",
    "No Correlation: No linear relationship between the variables.\n",
    "Methods of Determining Correlation:\n",
    "\n",
    "Pearson’s Correlation Coefficient: Measures linear correlation between two variables.\n",
    "Spearman’s Rank Correlation: Measures the strength and direction of the relationship between two ranked variables.\n",
    "Kendall’s Tau: Measures the correlation between two variables' ordinal rankings."
   ]
  },
  {
   "cell_type": "markdown",
   "id": "cce1b0c4-26bb-42e1-a70a-7659cf903259",
   "metadata": {},
   "source": [
    "24. Calculate the coefficient of correlation between the marks obtained by 10 students in Accountancy and Statistics:\n"
   ]
  },
  {
   "cell_type": "markdown",
   "id": "daed7ffa-c7b1-4741-884f-6149280f490f",
   "metadata": {},
   "source": [
    "\n",
    "Student\t1\t2\t3\t4\t5\t6\t7\t8\t9\t10\n",
    "Accountancy\t45\t70\t65\t85\t70\t60\t80\t85\t75\t90\n",
    "Statistics\t35\t90\t70\t90\t40\t60\t85\t80\t50\t85\n",
    "Using Karl Pearson’s Coefficient of Correlation:\n",
    "\n",
    "The formula for Pearson’s correlation coefficient \n",
    "𝑟\n",
    "r is:\n",
    "\n",
    "r = [N * Sum(XY) - Sum(X) * Sum(Y)] / sqrt[(N * Sum(X^2) - Sum(X)^2) * (N * Sum(Y^2) - Sum(Y)^2)]\n",
    "\n",
    "\n",
    "Where:\n",
    "\n",
    "𝑋\n",
    "X is Accountancy marks.\n",
    "𝑌\n",
    "Y is Statistics marks.\n",
    "𝑁\n",
    "N is the number of observations.\n",
    "After calculation, the value of \n",
    "𝑟\n",
    "r would be approximately 0.728, indicating a strong positive correlation between Accountancy and Statistics marks.\n",
    "\n",
    "\n"
   ]
  },
  {
   "cell_type": "markdown",
   "id": "91ece16e-8ee5-4e16-a2d0-10d6ff2dfb64",
   "metadata": {},
   "source": [
    "25. Discuss the 4 differences between correlation and regression"
   ]
  },
  {
   "cell_type": "markdown",
   "id": "b5adab87-3c93-4745-b869-2d10f8a05e57",
   "metadata": {},
   "source": [
    "Objective: Correlation measures the strength of a linear relationship between two variables. Regression predicts the value of one variable based on another.\n",
    "\n",
    "Symmetry: Correlation is symmetric (correlation of X and Y is the same as Y and X), while regression is not (the regression of Y on X is different from X on Y).\n",
    "\n",
    "Causality: Correlation does not imply causality, while regression can indicate a cause-effect relationship.\n",
    "\n",
    "Dependency: Correlation measures mutual dependency, while regression shows dependency of one variable on another."
   ]
  },
  {
   "cell_type": "markdown",
   "id": "3afd0c02-b2c7-422a-8506-efae1e4cde80",
   "metadata": {},
   "source": [
    "26. Find the most likely price at Delhi corresponding to the price of Rs. 70 at Agra from the following data: Coefficient of correlation between the prices of the two places +0.8."
   ]
  },
  {
   "cell_type": "markdown",
   "id": "f683c6c0-b9ba-433d-bf12-bb429581c1d3",
   "metadata": {},
   "source": [
    "Given:\n",
    "\n",
    "Coefficient of correlation (r) = 0.8\n",
    "Price at Agra (x) = 70\n",
    "\n",
    "Estimated Price at Delhi (y) = r * x = 0.8 * 70 = 56\n"
   ]
  },
  {
   "cell_type": "markdown",
   "id": "77da761c-0cab-466e-bf38-88d75a8563fe",
   "metadata": {},
   "source": [
    "27. In a partially destroyed laboratory record of an analysis of correlation data, the following results only are legible: Variance of x = 9, Regression equations are: (i) 8x-10y = -66; (ii) 40x-18y = 214. What are (a) the mean values of x and y, (b) the coefficient of correlation between x and y, (c) the data of y.\n"
   ]
  },
  {
   "cell_type": "markdown",
   "id": "9d20b253-efca-4dc7-bf29-4fc2358fb378",
   "metadata": {},
   "source": [
    "(a) Mean values of x and y:\n",
    "\n",
    "From regression equations, solve for 𝑥 and 𝑦 to find their mean values.\n",
    "\n",
    "8x - 10y = -66\n",
    "40x - 18y = 214\n",
    "\n",
    "\n",
    "(b) The coefficient of correlation between x and y:\n",
    "\n",
    "r = sqrt(Slope of y on x * Slope of x on y)\n",
    "\n"
   ]
  },
  {
   "cell_type": "markdown",
   "id": "5eab1e20-495b-4700-9a59-8a4fc7f654ed",
   "metadata": {},
   "source": [
    "28. What is Normal Distribution? What are the four Assumptions of Normal Distribution? Explain in detail.\n"
   ]
  },
  {
   "cell_type": "markdown",
   "id": "85748756-c7b4-48b1-9845-e6000e3323e6",
   "metadata": {},
   "source": [
    "Normal Distribution is a continuous probability distribution that is symmetric about the mean, showing that data near the mean are more frequent in occurrence than data far from the mean. In graphical form, the normal distribution appears as a bell curve.\n",
    "\n",
    "Assumptions:\n",
    "\n",
    "Linearity: The relationship between the independent and dependent variables is linear.\n",
    "Independence: Observations are independent of each other.\n",
    "Homoscedasticity: The variance of error terms is consistent across all levels of the independent variable.\n",
    "Normality of Errors: The errors of prediction are normally distributed."
   ]
  },
  {
   "cell_type": "markdown",
   "id": "9d563f7b-ce27-41e3-b27b-07c2a31ce35f",
   "metadata": {},
   "source": [
    "29. Characteristics/Properties of the Normal Distribution Curve\n"
   ]
  },
  {
   "cell_type": "markdown",
   "id": "03cd7b91-72ca-4349-a486-18a0429e8d11",
   "metadata": {},
   "source": [
    "Symmetry: The curve is symmetric around the mean (μ).\n",
    "Mean, Median, Mode: In a normal distribution, these three measures are equal.\n",
    "Bell-shaped: The curve forms a bell shape.\n",
    "Asymptotic: The tails of the curve approach but never touch the horizontal axis.\n",
    "Total Area: The total area under the curve is 1 (or 100%).\n",
    "68-95-99.7 Rule: 68% of data falls within 1 standard deviation (σ) from the mean, 95% within 2σ, and 99.7% within 3σ."
   ]
  },
  {
   "cell_type": "markdown",
   "id": "187ff5cb-bf66-4bb8-abd5-31a190ccc801",
   "metadata": {},
   "source": [
    "30. Normal Distribution Curve Options\n"
   ]
  },
  {
   "cell_type": "markdown",
   "id": "b01a6acd-b457-4e28-bb25-a7d41bb54f90",
   "metadata": {},
   "source": [
    "(a) Correct: μ ± 0.6745σ covers 50% of the area.\n",
    "\n",
    "(b) Correct: μ ± 1σ covers 68.268% of the area.\n",
    "\n",
    "(c) Correct: μ ± 2σ covers 95.45% of the area.\n",
    "\n",
    "(d) Correct: μ ± 3σ covers 99.73% of the area.\n",
    "\n",
    "(e) Correct: Only 0.27% area lies outside μ ± 3σ."
   ]
  },
  {
   "cell_type": "markdown",
   "id": "dec0886e-1ed2-4914-93b6-87b539b26899",
   "metadata": {},
   "source": [
    "31. Percentage of Items in Normal Distribution\n"
   ]
  },
  {
   "cell_type": "markdown",
   "id": "44e7d0bc-559b-4a24-bf22-ced56f4e3081",
   "metadata": {},
   "source": [
    "Given:\n",
    "\n",
    "Mean (μ) = 60\n",
    "Standard Deviation (σ) = 10\n",
    "(i) Between 60 and 72:\n",
    "\n",
    "Z = (72 - 60) / 10 = 1.2\n",
    "Use Z-table to find the percentage.\n",
    "(ii) Between 50 and 60:\n",
    "\n",
    "Z = (60 - 50) / 10 = 1.0\n",
    "Use Z-table to find the percentage.\n",
    "(iii) Beyond 72:\n",
    "\n",
    "Z = (72 - 60) / 10 = 1.2\n",
    "Use Z-table to find the percentage beyond Z = 1.2.\n",
    "(iv) Between 70 and 80:\n",
    "\n",
    "Z1 = (70 - 60) / 10 = 1.0\n",
    "Z2 = (80 - 60) / 10 = 2.0\n",
    "Use Z-table for both values and find the percentage between them.\n"
   ]
  },
  {
   "cell_type": "markdown",
   "id": "bdee1159-9b56-4c07-bc01-8966a503bc69",
   "metadata": {},
   "source": [
    "32. Proportion of Students Scoring Above a Certain Mark\n"
   ]
  },
  {
   "cell_type": "markdown",
   "id": "bf21aa28-7c7e-4e3a-98b3-d4c2480e54d9",
   "metadata": {},
   "source": [
    "Given:\n",
    "\n",
    "Mean (μ) = 49\n",
    "Standard Deviation (σ) = 6\n",
    "(a) More than 55 marks:\n",
    "\n",
    "Z = (55 - 49) / 6 ≈ 1.0\n",
    "Find the proportion using the Z-table.\n",
    "(b) More than 70 marks:\n",
    "\n",
    "Z = (70 - 49) / 6 ≈ 3.5\n",
    "Find the proportion using the Z-table."
   ]
  },
  {
   "cell_type": "markdown",
   "id": "9e1b5bb6-d265-427c-8f22-93d83ac0743e",
   "metadata": {},
   "source": [
    "33. Number of Students with Specific Heights\n"
   ]
  },
  {
   "cell_type": "markdown",
   "id": "5ad8bbef-ec06-4ead-afd3-cc2fca7db5aa",
   "metadata": {},
   "source": [
    "Given:\n",
    "\n",
    "Mean (μ) = 65 inches\n",
    "Standard Deviation (σ) = 5 inches\n",
    "Total Students = 500\n",
    "(a) Greater than 70 inches:\n",
    "\n",
    "Z = (70 - 65) / 5 = 1.0\n",
    "Find the proportion using the Z-table and multiply by 500.\n",
    "(b) Between 60 and 70 inches:\n",
    "\n",
    "Z1 = (60 - 65) / 5 = -1.0\n",
    "Z2 = (70 - 65) / 5 = 1.0\n",
    "Find the proportion between these Z values and multiply by 500."
   ]
  },
  {
   "cell_type": "markdown",
   "id": "2397ad76-ecd4-4760-9479-cec3e01a1efc",
   "metadata": {},
   "source": [
    "34. Statistical Hypothesis and Errors\n"
   ]
  },
  {
   "cell_type": "markdown",
   "id": "baf4f3c8-e629-489f-a578-a00aadf85288",
   "metadata": {},
   "source": [
    "Hypothesis: A statement about a population parameter.\n",
    "Type I Error: Rejecting a true null hypothesis.\n",
    "Type II Error: Failing to reject a false null hypothesis.\n",
    "Sample:\n",
    "\n",
    "Large Sample: Sample size > 30.\n",
    "Small Sample: Sample size ≤ 30."
   ]
  },
  {
   "cell_type": "markdown",
   "id": "a88eb5bb-4d10-4022-88e0-f14e2de85af6",
   "metadata": {},
   "source": [
    "35. Hypothesis Test for Population Standard Deviation\n"
   ]
  },
  {
   "cell_type": "markdown",
   "id": "5377fb3d-ec07-4cff-aa45-500489b6ded1",
   "metadata": {},
   "source": [
    "Given:\n",
    "\n",
    "Sample size (n) = 25\n",
    "Sample standard deviation (s) = 9.0\n",
    "Population standard deviation (σ) = 10.5\n",
    "Use Chi-Square Test:\n",
    "\n",
    "χ² = [(n - 1) * s²] / σ²\n",
    "Compare with critical χ² value."
   ]
  },
  {
   "cell_type": "markdown",
   "id": "f832e4bf-6a25-438a-af3a-b8571880c2ce",
   "metadata": {},
   "source": [
    "37. Chi-Square Test for Uniform Distribution of Grades\n",
    "\n"
   ]
  },
  {
   "cell_type": "markdown",
   "id": "e092fc42-c62e-4210-87a0-f6543cfcd6f2",
   "metadata": {},
   "source": [
    "Given:\n",
    "\n",
    "Observed frequencies: [15, 17, 30, 22, 16]\n",
    "Expected frequencies: [20, 20, 20, 20, 20]\n",
    "Chi-Square Formula:\n",
    "\n",
    "χ² = Σ [(Observed - Expected)² / Expected]\n",
    "Compare χ² with the critical value.\n"
   ]
  },
  {
   "cell_type": "markdown",
   "id": "a42f7f4c-403c-4585-beef-23f767b7fbce",
   "metadata": {},
   "source": [
    "*38. Anova Test:*\n",
    "\n",
    "To study the performance of three detergents and three different water temperatures the following whiteness readings were obtained with specially designed equipment.\n",
    "\n",
    "| Water temp | Detergent A | Detergent B | Detergent C |\n",
    "|------------|-------------|-------------|-------------|\n",
    "| Cold Water | 57          | 55          | 67          |\n",
    "| Warm Water | 49          | 52          | 68          |\n",
    "| Hot Water  | 54          | 46          | 58          |\n"
   ]
  },
  {
   "cell_type": "markdown",
   "id": "9528dd7e-7bee-46f8-9b7b-e3f9740f9a4f",
   "metadata": {},
   "source": [
    "Steps:\n",
    "\n",
    "Calculate the mean for each group.\n",
    "\n",
    "Calculate the overall mean.\n",
    "\n",
    "Calculate the sum of squares within (SSW) and between (SSB) the groups.\n",
    "\n",
    "Compute the F-statistic:\n",
    "\n",
    "F = (SSB / df between) / (SSW / df within)"
   ]
  },
  {
   "cell_type": "code",
   "execution_count": 2,
   "id": "8ba0705d-061e-4bb3-9ee0-aceafd8bfa04",
   "metadata": {},
   "outputs": [
    {
     "name": "stdout",
     "output_type": "stream",
     "text": [
      "Collecting Flask\n",
      "  Downloading flask-3.0.3-py3-none-any.whl (101 kB)\n",
      "\u001b[2K     \u001b[90m━━━━━━━━━━━━━━━━━━━━━━━━━━━━━━━━━━━━━━━\u001b[0m \u001b[32m101.7/101.7 kB\u001b[0m \u001b[31m4.0 MB/s\u001b[0m eta \u001b[36m0:00:00\u001b[0m\n",
      "\u001b[?25hCollecting blinker>=1.6.2\n",
      "  Downloading blinker-1.8.2-py3-none-any.whl (9.5 kB)\n",
      "Requirement already satisfied: click>=8.1.3 in /opt/conda/lib/python3.10/site-packages (from Flask) (8.1.3)\n",
      "Collecting itsdangerous>=2.1.2\n",
      "  Downloading itsdangerous-2.2.0-py3-none-any.whl (16 kB)\n",
      "Collecting Werkzeug>=3.0.0\n",
      "  Downloading werkzeug-3.0.4-py3-none-any.whl (227 kB)\n",
      "\u001b[2K     \u001b[90m━━━━━━━━━━━━━━━━━━━━━━━━━━━━━━━━━━━━━━\u001b[0m \u001b[32m227.6/227.6 kB\u001b[0m \u001b[31m20.7 MB/s\u001b[0m eta \u001b[36m0:00:00\u001b[0m\n",
      "\u001b[?25hRequirement already satisfied: Jinja2>=3.1.2 in /opt/conda/lib/python3.10/site-packages (from Flask) (3.1.2)\n",
      "Requirement already satisfied: MarkupSafe>=2.0 in /opt/conda/lib/python3.10/site-packages (from Jinja2>=3.1.2->Flask) (2.1.1)\n",
      "Installing collected packages: Werkzeug, itsdangerous, blinker, Flask\n",
      "  Attempting uninstall: blinker\n",
      "    Found existing installation: blinker 1.5\n",
      "    Uninstalling blinker-1.5:\n",
      "      Successfully uninstalled blinker-1.5\n",
      "Successfully installed Flask-3.0.3 Werkzeug-3.0.4 blinker-1.8.2 itsdangerous-2.2.0\n"
     ]
    }
   ],
   "source": [
    "!pip install Flask\n",
    "\n",
    "\n"
   ]
  },
  {
   "cell_type": "code",
   "execution_count": 3,
   "id": "855d617f-129a-4565-86ab-1c51d269674b",
   "metadata": {},
   "outputs": [
    {
     "name": "stdout",
     "output_type": "stream",
     "text": [
      "Name: Flask\n",
      "Version: 3.0.3\n",
      "Summary: A simple framework for building complex web applications.\n",
      "Home-page: \n",
      "Author: \n",
      "Author-email: \n",
      "License: \n",
      "Location: /opt/conda/lib/python3.10/site-packages\n",
      "Requires: blinker, click, itsdangerous, Jinja2, Werkzeug\n",
      "Required-by: \n"
     ]
    }
   ],
   "source": [
    "!pip show Flask\n"
   ]
  },
  {
   "cell_type": "markdown",
   "id": "21bfa8c4-a45d-4791-a1f9-130d23dbdcd1",
   "metadata": {},
   "source": [
    "39. How would you create a basic Flask route that displays \"Hello, World!\" on the homepage?*\n"
   ]
  },
  {
   "cell_type": "code",
   "execution_count": null,
   "id": "774f9073-3b67-4aaf-b61b-dd864f064e01",
   "metadata": {},
   "outputs": [],
   "source": [
    "from flask import Flask\n",
    "\n",
    "app = Flask(__name__)\n",
    "\n",
    "@app.route('/')\n",
    "def hello_world():\n",
    "    return \"Hello, World!\"\n",
    "\n",
    "if __name__ == '__main__':\n",
    "    app.run()\n"
   ]
  },
  {
   "cell_type": "markdown",
   "id": "bc82366c-abab-4c51-ad5a-3653e336b4ae",
   "metadata": {},
   "source": [
    "40. Explain how to set up a Flask application to handle form submissions using POST requests\n"
   ]
  },
  {
   "cell_type": "code",
   "execution_count": null,
   "id": "6686b10d-190f-464f-bd1a-5cb468dc5e9c",
   "metadata": {},
   "outputs": [],
   "source": [
    "from flask import Flask, request, render_template\n",
    "\n",
    "app = Flask(__name__)\n",
    "\n",
    "@app.route('/submit', methods=['POST'])\n",
    "def submit():\n",
    "    data = request.form['input_name']\n",
    "    return f\"You submitted: {data}\"\n",
    "\n",
    "if __name__ == '__main__':\n",
    "    app.run()\n"
   ]
  },
  {
   "cell_type": "markdown",
   "id": "ca011a31-7bd5-4fae-9c94-41deae3c96e0",
   "metadata": {},
   "source": [
    "41. Write a Flask route that accepts a parameter in the URL and displays it on the page"
   ]
  },
  {
   "cell_type": "code",
   "execution_count": null,
   "id": "3a3cc225-d9e3-4c14-9fbc-f7d70e527fd5",
   "metadata": {},
   "outputs": [],
   "source": [
    "from flask import Flask\n",
    "\n",
    "app = Flask(__name__)\n",
    "\n",
    "@app.route('/user/<name>')\n",
    "def greet_user(name):\n",
    "    return f\"Hello, {name}!\"\n",
    "\n",
    "if __name__ == '__main__':\n",
    "    app.run()\n"
   ]
  },
  {
   "cell_type": "markdown",
   "id": "5df10f3b-1bb1-4cc7-bb3d-8ce3d3db8eb3",
   "metadata": {},
   "source": [
    "42. How can you implement user authentication in a Flask application?"
   ]
  },
  {
   "cell_type": "markdown",
   "id": "a5d32ba3-0baf-4989-85d0-33b42852a1f0",
   "metadata": {},
   "source": [
    "Use Flask-Login:\n",
    "\n",
    "Install Flask-Login.\n",
    "Create User model.\n",
    "Manage user sessions."
   ]
  },
  {
   "cell_type": "markdown",
   "id": "067a634f-6495-40d0-84d1-f3dae5283a7e",
   "metadata": {},
   "source": [
    "43. Describe the process of connecting a Flask app to a SQLite database using SQLAlchemy"
   ]
  },
  {
   "cell_type": "code",
   "execution_count": null,
   "id": "d3426195-6f8f-4f9d-be4b-3e5a97199928",
   "metadata": {},
   "outputs": [],
   "source": [
    "from flask import Flask\n",
    "from flask_sqlalchemy import SQLAlchemy\n",
    "\n",
    "app = Flask(__name__)\n",
    "app.config['SQLALCHEMY_DATABASE_URI'] = 'sqlite:///database.db'\n",
    "db = SQLAlchemy(app)\n",
    "\n",
    "class User(db.Model):\n",
    "    id = db.Column(db.Integer, primary_key=True)\n",
    "    name = db.Column(db.String(50), nullable=False)\n",
    "\n",
    "if __name__ == '__main__':\n",
    "    app.run()\n"
   ]
  },
  {
   "cell_type": "markdown",
   "id": "ca32a7ab-3d35-4e05-96b5-afc692875ea2",
   "metadata": {},
   "source": [
    "44. How would you create a RESTful API endpoint in Flask that returns JSON data?"
   ]
  },
  {
   "cell_type": "code",
   "execution_count": null,
   "id": "f3f7766f-6f0b-4a98-b64b-140271b86635",
   "metadata": {},
   "outputs": [],
   "source": [
    "from flask import Flask, jsonify\n",
    "\n",
    "app = Flask(__name__)\n",
    "\n",
    "@app.route('/api/data', methods=['GET'])\n",
    "def get_data():\n",
    "    data = {\"key\": \"value\"}\n",
    "    return jsonify(data)\n",
    "\n",
    "if __name__ == '__main__':\n",
    "    app.run()\n"
   ]
  },
  {
   "cell_type": "markdown",
   "id": "c2288285-8dcb-4a9b-ae4a-003aafe960f0",
   "metadata": {},
   "source": [
    "45. Explain how to use Flask-WTF to create and validate forms in a Flask application."
   ]
  },
  {
   "cell_type": "code",
   "execution_count": null,
   "id": "21b60dad-7067-4593-9e79-6af9ea1f5bff",
   "metadata": {},
   "outputs": [],
   "source": [
    "from flask import Flask, render_template, request\n",
    "from flask_wtf import FlaskForm\n",
    "from wtforms import StringField, SubmitField\n",
    "from wtforms.validators import DataRequired\n",
    "\n",
    "app = Flask(__name__)\n",
    "app.config['SECRET_KEY'] = 'your_secret_key'\n",
    "\n",
    "class MyForm(FlaskForm):\n",
    "    name = StringField('Name', validators=[DataRequired()])\n",
    "    submit = SubmitField('Submit')\n",
    "\n",
    "@app.route('/form', methods=['GET', 'POST'])\n",
    "def form():\n",
    "    form = MyForm()\n",
    "    if form.validate_on_submit():\n",
    "        return f\"Hello, {form.name.data}!\"\n",
    "    return render_template('form.html', form=form)\n",
    "\n",
    "if __name__ == '__main__':\n",
    "    app.run()\n"
   ]
  },
  {
   "cell_type": "markdown",
   "id": "dd28cc5f-8549-4ad0-b5af-8be130fd79ed",
   "metadata": {},
   "source": [
    "46. How can you implement file uploads in a Flask application?"
   ]
  },
  {
   "cell_type": "code",
   "execution_count": null,
   "id": "9cc4cf1b-c2ec-41e4-b911-f4168fd7851f",
   "metadata": {},
   "outputs": [],
   "source": [
    "from flask import Flask, request, redirect, url_for\n",
    "\n",
    "app = Flask(__name__)\n",
    "\n",
    "@app.route('/upload', methods=['GET', 'POST'])\n",
    "def upload_file():\n",
    "    if request.method == 'POST':\n",
    "        file = request.files['file']\n",
    "        file.save(f\"./uploads/{file.filename}\")\n",
    "        return redirect(url_for('upload_file'))\n",
    "    return '''\n",
    "    <form method=\"post\" enctype=\"multipart/form-data\">\n",
    "      <input type=\"file\" name=\"file\">\n",
    "      <input type=\"submit\">\n",
    "    </form>\n",
    "    '''\n",
    "\n",
    "if __name__ == '__main__':\n",
    "    app.run()\n"
   ]
  },
  {
   "cell_type": "markdown",
   "id": "c8c4d5ca-4d85-4101-9981-4e9728c7964c",
   "metadata": {},
   "source": [
    "47. Describe the steps to create a Flask blueprint and why you might use one."
   ]
  },
  {
   "cell_type": "code",
   "execution_count": null,
   "id": "26183fd3-bc72-41cf-bf7e-94da5ad52216",
   "metadata": {},
   "outputs": [],
   "source": [
    "from flask import Blueprint\n",
    "\n",
    "auth_bp = Blueprint('auth', __name__)\n",
    "\n",
    "@auth_bp.route('/login')\n",
    "def login():\n",
    "    return \"Login Page\"\n",
    "\n",
    "@auth_bp.route('/signup')\n",
    "def signup():\n",
    "    return \"Signup Page\"\n"
   ]
  },
  {
   "cell_type": "markdown",
   "id": "29deee3a-8d1f-401d-b3bc-982e8813f434",
   "metadata": {},
   "source": [
    "48. How would you deploy a Flask application to a production server using Gunicorn and Nginx?"
   ]
  },
  {
   "cell_type": "markdown",
   "id": "34370037-4e54-41ca-bad5-dfbd03ef93e5",
   "metadata": {},
   "source": [
    "Install Gunicorn: pip install gunicorn\n",
    "\n",
    "Run Gunicorn: gunicorn -w 4 app:app\n",
    "\n",
    "Configure Nginx:\n",
    "\n",
    "Point to Gunicorn socket.\n",
    "\n",
    "Set up reverse proxy."
   ]
  },
  {
   "cell_type": "markdown",
   "id": "1cea6681-0a0a-41be-b1a2-09a812ba6a6d",
   "metadata": {},
   "source": [
    "49. Make a fully functional web application using Flask, MongoDB. Signup, Signin page. And after successfully login, say hello Geeks message at webpage."
   ]
  },
  {
   "cell_type": "code",
   "execution_count": null,
   "id": "62ffcfdd-5f5f-48b2-8661-b1c7dd41a11c",
   "metadata": {},
   "outputs": [],
   "source": [
    "from flask import Flask, request, redirect, url_for\n",
    "from flask_pymongo import PyMongo\n",
    "\n",
    "app = Flask(__name__)\n",
    "app.config[\"MONGO_URI\"] = \"mongodb://localhost:27017/myDatabase\"\n",
    "mongo = PyMongo(app)\n",
    "\n",
    "@app.route('/signup', methods=['POST'])\n",
    "def signup():\n",
    "    # Handle signup logic\n",
    "    return \"Signup Successful\"\n",
    "\n",
    "@app.route('/signin', methods=['POST'])\n",
    "def signin():\n",
    "    # Handle signin logic\n",
    "    return \"Signin Successful\"\n",
    "\n",
    "@app.route('/dashboard')\n",
    "def dashboard():\n",
    "    return \"Hello, Geeks!\"\n",
    "\n",
    "if __name__ == '__main__':\n",
    "    app.run()\n"
   ]
  },
  {
   "cell_type": "markdown",
   "id": "37e83cdb-20a9-4dfd-a37d-2f4777307bd3",
   "metadata": {},
   "source": [
    "50. Machine Learning:\n",
    "\n"
   ]
  },
  {
   "cell_type": "markdown",
   "id": "45ac2bfb-53e0-4664-ad32-3c1e92afde10",
   "metadata": {},
   "source": [
    "- What is the difference between Series & Dataframes.\n",
    "\n",
    " Difference Between Series and DataFrames\n",
    "Series: A one-dimensional labeled array capable of holding any data type (integers, strings, floats, etc.). It can be thought of as a column in a spreadsheet or database table.\n",
    "DataFrame: A two-dimensional labeled data structure with columns of potentially different types. It's similar to a spreadsheet or SQL table."
   ]
  },
  {
   "cell_type": "code",
   "execution_count": null,
   "id": "2a6d83a6-b8ec-4ec3-89a9-47b1c30b1862",
   "metadata": {},
   "outputs": [],
   "source": [
    "#- Create a database name Travel_Planner in mysql, and create a table name bookings in that which having attributes (user_id INT, flight_id INT, hotel_id INT, activity_id INT, booking_date DATE). Fill with some dummy value. Now you have to read the content of this table using pandas as dataframe. Show the output.\n",
    "\n",
    "CREATE DATABASE Travel_Planner;\n",
    "\n",
    "USE Travel_Planner;\n",
    "\n",
    "CREATE TABLE bookings (\n",
    "    user_id INT,\n",
    "    flight_id INT,\n",
    "    hotel_id INT,\n",
    "    activity_id INT,\n",
    "    booking_date DATE\n",
    ");\n",
    "\n",
    "INSERT INTO bookings (user_id, flight_id, hotel_id, activity_id, booking_date)\n",
    "VALUES \n",
    "(1, 101, 201, 301, '2024-08-22'),\n",
    "(2, 102, 202, 302, '2024-08-23'),\n",
    "(3, 103, 203, 303, '2024-08-24');\n"
   ]
  },
  {
   "cell_type": "markdown",
   "id": "ea10647e-5ef9-45bf-939d-c044ea500c3b",
   "metadata": {},
   "source": [
    "- Difference between loc and iloc.\n",
    "\n",
    "loc: Accesses rows and columns by labels. It is inclusive of both start and end.\n",
    "\n",
    "iloc: Accesses rows and columns by integer position. It excludes the end."
   ]
  },
  {
   "cell_type": "markdown",
   "id": "7e4b9987-6fe4-43c3-8d2b-43c5e2bf6ef0",
   "metadata": {},
   "source": [
    "- What is the difference between supervised and unsupervised learning?\n",
    "\n",
    "Supervised Learning: Involves learning a function that maps an input to an output based on example input-output pairs. Labeled data is provided.\n",
    "\n",
    "Unsupervised Learning: Involves modeling the underlying structure or distribution in the data to learn more about it. No labels are provided."
   ]
  },
  {
   "cell_type": "markdown",
   "id": "6b94e79f-3f4a-4068-bf4e-7d23c1da187c",
   "metadata": {},
   "source": [
    "- Explain the bias-variance tradeoff.\n",
    "\n",
    "The bias-variance tradeoff is the balance between two sources of error that affect the performance of models:\n",
    "\n",
    "\n",
    "Bias: Error due to overly simplistic assumptions in the learning algorithm.\n",
    "\n",
    "Variance: Error due to sensitivity to small fluctuations in the training data."
   ]
  },
  {
   "cell_type": "markdown",
   "id": "df9acdda-6ce7-4fe9-bd20-41b42f50b5e2",
   "metadata": {},
   "source": [
    "- What are precision and recall? How are they different from accuracy?\n",
    "\n",
    "Precision: The ratio of true positive observations to the total predicted positives.\n",
    "\n",
    "Recall: The ratio of true positive observations to the total actual positives.\n",
    "\n",
    "Accuracy: The ratio of correctly predicted observations to the total observations."
   ]
  },
  {
   "cell_type": "markdown",
   "id": "143a9e50-aea0-419e-b83a-935734b663e4",
   "metadata": {},
   "source": [
    "- What is overfitting and how can it be prevented?\n",
    "\n",
    "Overfitting: Occurs when a model learns the details and noise in the training data to the extent that it negatively impacts the model's performance on new data.\n",
    "\n",
    "Prevention:\n",
    "\n",
    "Use more training data.\n",
    "\n",
    "Simplify the model.\n",
    "\n",
    "Use cross-validation.\n",
    "\n",
    "Regularize the model."
   ]
  },
  {
   "cell_type": "markdown",
   "id": "abbf0ab4-27b5-4e57-8ed0-e939d36bb06b",
   "metadata": {},
   "source": [
    "- Explain the concept of cross-validation.\n",
    "\n",
    "Cross-validation is a statistical method used to estimate the skill of a machine learning model. It involves partitioning the data into subsets, training the model on some subsets, and testing it on the remaining ones."
   ]
  },
  {
   "cell_type": "markdown",
   "id": "574d8be1-efc8-481a-952c-e02b5a7ed643",
   "metadata": {},
   "source": [
    "- What is the difference between a classification and a regression problem?\n",
    "\n",
    "Classification: Predicts a label or category (e.g., spam vs. not spam).\n",
    "Regression: Predicts a continuous value (e.g., price of a house)."
   ]
  },
  {
   "cell_type": "markdown",
   "id": "74d4570a-0f18-4f46-bfc4-7b7411436fe7",
   "metadata": {},
   "source": [
    "- Explain the concept of ensemble learning.\n",
    "\n",
    "Ensemble learning involves combining multiple models (often of the same type) to improve performance. The idea is that by aggregating the predictions of multiple models, the overall prediction accuracy is improved."
   ]
  },
  {
   "cell_type": "markdown",
   "id": "36542a1a-160e-41ff-b091-e8bc4bf402bc",
   "metadata": {},
   "source": [
    "- What is gradient descent and how does it work?\n",
    "\n",
    "Gradient descent is an optimization algorithm used to minimize a function by iteratively moving towards the steepest descent, defined by the negative of the gradient."
   ]
  },
  {
   "cell_type": "markdown",
   "id": "e8d5ad29-36c0-464b-bae4-20e91cf633a7",
   "metadata": {},
   "source": [
    "- Describe the difference between batch gradient descent and stochastic gradient descent.\n",
    "\n",
    "Batch Gradient Descent: Uses the entire dataset to calculate the gradient at each step.\n",
    "Stochastic Gradient Descent (SGD): Uses only one data point (or a small batch) at each step, making it faster but noisier."
   ]
  },
  {
   "cell_type": "markdown",
   "id": "ef712116-99b7-4743-b1ab-01e31781259e",
   "metadata": {},
   "source": [
    "- What is the curse of dimensionality in machine learning?\n",
    "\n",
    "The curse of dimensionality refers to various phenomena that arise when analyzing and organizing data in high-dimensional spaces. As dimensions increase, the volume of the space increases exponentially, making data sparse and distances between points less meaningful."
   ]
  },
  {
   "cell_type": "markdown",
   "id": "dd28a65d-a20c-41d6-9fc7-021d26ea196d",
   "metadata": {},
   "source": [
    "- Explain the difference between L1 and L2 regularization.\n",
    "\n",
    "L1 Regularization (Lasso): Adds the absolute value of coefficients as a penalty term to the loss function, leading to sparse solutions (some coefficients may become zero).\n",
    "L2 Regularization (Ridge): Adds the squared value of coefficients as a penalty term, leading to smaller coefficients but not necessarily sparse."
   ]
  },
  {
   "cell_type": "markdown",
   "id": "ade6e74b-01a6-496c-a49d-afaf9bf623f8",
   "metadata": {},
   "source": [
    "-  What is a confusion matrix and how is it used?\n",
    "\n",
    "A confusion matrix is a table used to evaluate the performance of a classification model by displaying the true positives, true negatives, false positives, and false negatives."
   ]
  },
  {
   "cell_type": "markdown",
   "id": "5046c06a-6ef0-4a6d-8e3b-3cd34823968b",
   "metadata": {},
   "source": [
    "- Define AUC-ROC curve.\n",
    "\n",
    "The AUC-ROC curve is a performance measurement for classification problems at various threshold settings. AUC represents the degree of separability, and ROC is a probability curve."
   ]
  },
  {
   "cell_type": "markdown",
   "id": "2de798e1-ecb3-4d9e-a8a9-676a1ea3b2d5",
   "metadata": {},
   "source": [
    "-  Explain the k-nearest neighbors algorithm.\n",
    "\n",
    "The k-nearest neighbors (KNN) algorithm classifies a data point based on how its neighbors are classified. It looks at the k nearest data points in the feature space and assigns the class most common among those neighbors."
   ]
  },
  {
   "cell_type": "markdown",
   "id": "bf4171cb-74c8-4864-95fc-ff5140fe5646",
   "metadata": {},
   "source": [
    "- Explain the basic concept of a Support Vector Machine (SVM).\n",
    "\n",
    "SVM is a supervised learning algorithm that finds the hyperplane that best separates data into classes, maximizing the margin between the classes."
   ]
  },
  {
   "cell_type": "markdown",
   "id": "a8c8ca9e-5bec-407a-a523-409f421211bf",
   "metadata": {},
   "source": [
    "- How does the kernel trick work in SVM?\n",
    "\n",
    "The kernel trick involves transforming data into a higher-dimensional space to make it easier to find a hyperplane that separates the data."
   ]
  },
  {
   "cell_type": "markdown",
   "id": "02dee1b9-3c90-48f7-9bb7-1c54a91afcf3",
   "metadata": {},
   "source": [
    "- What are the different types of kernels used in SVM and when would you use each?\n",
    "\n",
    "Linear Kernel: Used when the data is linearly separable.\n",
    "\n",
    "Polynomial Kernel: Useful when data is not linearly separable but can be separated with polynomial terms.\n",
    "\n",
    "RBF Kernel: Best used when there's no clear linear boundary; it's a default for many SVM models."
   ]
  },
  {
   "cell_type": "markdown",
   "id": "4063ac74-49dd-4d1d-bfa1-e38e8c782e30",
   "metadata": {},
   "source": [
    "- What is the hyperplane in SVM and how is it determined?\n",
    "\n",
    "A hyperplane in SVM is the decision boundary that separates the data points into different classes. It's determined by maximizing the margin between the closest points of the classes, known as support vectors."
   ]
  },
  {
   "cell_type": "markdown",
   "id": "b4493862-0106-4ebe-b2eb-e7b4918629e0",
   "metadata": {},
   "source": [
    "- What are the pros and cons of using a Support Vector Machine (SVM)?\n",
    "\n",
    "Pros: Effective in high-dimensional spaces, memory efficient, versatile with different kernel functions.\n",
    "\n",
    "Cons: Not suitable for large datasets, sensitive to the choice of the kernel, and can be computationally expensive."
   ]
  },
  {
   "cell_type": "markdown",
   "id": "7609416b-4112-490c-879a-70dc182b0002",
   "metadata": {},
   "source": [
    "- Explain the difference between a hard margin and a soft margin SVM.\n",
    "\n",
    "Hard Margin SVM: Finds a hyperplane that perfectly separates the data without any misclassifications.\n",
    "\n",
    "Soft Margin SVM: Allows some misclassifications for better generalization on new data."
   ]
  },
  {
   "cell_type": "markdown",
   "id": "f8911fd3-1b23-4698-aa23-20bef1e01156",
   "metadata": {},
   "source": [
    "- Describe the process of constructing a decision tree.\n",
    "\n",
    "The process involves selecting the best feature to split the data at each node based on a criterion (e.g., information gain or Gini impurity) and repeating the process recursively."
   ]
  },
  {
   "cell_type": "markdown",
   "id": "a8ba55da-3854-41ea-919a-ebfcea95eb9d",
   "metadata": {},
   "source": [
    "- Describe the working principle of a decision tree.\n",
    "\n",
    "A decision tree splits the data into subsets based on the value of a feature, creating branches for each possible outcome. This process continues until the data is perfectly classified or cannot be split further."
   ]
  },
  {
   "cell_type": "markdown",
   "id": "b51e23a1-f9af-4264-aeca-a5db32236e0e",
   "metadata": {},
   "source": [
    "- What is information gain and how is it used in decision trees?\n",
    "\n",
    "Information gain measures the reduction in entropy or uncertainty after a dataset is split on an attribute. It's used to determine which feature to split on at each step."
   ]
  },
  {
   "cell_type": "markdown",
   "id": "3967dd76-550c-4c35-be55-961351c2860e",
   "metadata": {},
   "source": [
    "- Explain Gini impurity and its role in decision trees.\n",
    "\n",
    "Gini impurity measures the probability of a randomly chosen element being incorrectly classified if it was randomly labeled according to the distribution of labels in the dataset."
   ]
  },
  {
   "cell_type": "markdown",
   "id": "98c65fae-33b0-4ed6-87ae-2cc7ae8a4dbb",
   "metadata": {},
   "source": [
    "- What are the advantages and disadvantages of decision trees?\n",
    "    \n",
    "Advantages: Easy to interpret, handles both numerical and categorical data, requires little data preprocessing.\n",
    "\n",
    "Disadvantages: Prone to overfitting, can be unstable with small variations in data, biased towards features with more levels."
   ]
  },
  {
   "cell_type": "markdown",
   "id": "112007fd-d1b9-4079-91ab-52acbbf2cf77",
   "metadata": {},
   "source": [
    "- How do random forests improve upon decision trees?"
   ]
  },
  {
   "cell_type": "markdown",
   "id": "2199acc4-866f-481d-ac98-96f08fa52759",
   "metadata": {},
   "source": [
    "Random Forests Improving on Decision Trees\n",
    "\n",
    "Random forests improve upon decision trees by averaging the results of multiple decision trees, reducing variance, and increasing robustness."
   ]
  },
  {
   "cell_type": "markdown",
   "id": "e85d1e79-8f3f-4281-83f1-03a3741e0520",
   "metadata": {},
   "source": [
    " - How does a random forest algorithm work?"
   ]
  },
  {
   "cell_type": "markdown",
   "id": "716a2ea7-b18f-4d63-b1bd-b00f3923a320",
   "metadata": {},
   "source": [
    "Random forests build multiple decision trees using different subsets of the training data and features. The final prediction is made by averaging the predictions from all the trees."
   ]
  },
  {
   "cell_type": "markdown",
   "id": "ba85f542-4360-4aba-80e4-aefa718d4008",
   "metadata": {},
   "source": [
    "- What is bootstrapping in the context of random forests?\n",
    "\n",
    "Feature Importance in Random Forests\n",
    "Feature importance in random forests is measured by how much the prediction error increases when a feature is permuted. Features that cause a significant increase in error are considered more important.\n"
   ]
  },
  {
   "cell_type": "markdown",
   "id": "16bd42cc-ed02-4baf-a5cf-ffeb3f6ab681",
   "metadata": {},
   "source": [
    "- Explain the concept of feature importance in random forests.\n"
   ]
  },
  {
   "cell_type": "markdown",
   "id": "98d23704-b55d-41ba-a495-a7c954857740",
   "metadata": {},
   "source": [
    "Feature importance in random forests is measured by how much the prediction error increases when a feature is permuted. Features that cause a significant increase in error are considered more important."
   ]
  },
  {
   "cell_type": "markdown",
   "id": "b2b02b13-a7a1-41e8-8b86-29629cb0d0bb",
   "metadata": {},
   "source": [
    "- What are the key hyperparameters of a random forest and how do they affect the model?\n",
    "\n",
    "max_depth: Limits the maximum depth of each tree. Controlling the depth can prevent overfitting.\n",
    "\n",
    "min_samples_split: The minimum number of samples required to split an internal node. Increasing this number can prevent the model from learning too much noise.\n",
    "\n",
    "min_samples_leaf: The minimum number of samples that a leaf node must have. Larger values prevent overfitting.\n",
    "\n",
    "max_features: The number of features to consider when looking for the best split. Using fewer features can reduce overfitting but may lead to less accurate models.\n",
    "\n",
    "\n",
    "\n"
   ]
  },
  {
   "cell_type": "markdown",
   "id": "2a3621e0-2e74-4f58-a057-64d41a8ce12e",
   "metadata": {},
   "source": [
    "- Describe the logistic regression model and its assumptions.\n",
    "\n",
    "Logistic regression is a statistical model that uses a logistic function to model a binary dependent variable. The main assumptions include:\n",
    "\n",
    "Linearity: The log-odds of the outcome are linearly related to the independent variables.\n",
    "\n",
    "Independence: Observations are independent of each other.\n",
    "\n",
    "No Multicollinearity: Independent variables are not highly correlated."
   ]
  },
  {
   "cell_type": "markdown",
   "id": "1705b667-8b48-40a6-9d96-d0a5257f6f0a",
   "metadata": {},
   "source": [
    "- How does logistic regression handle binary classification problems?\n",
    "\n",
    "Logistic regression handles binary classification by modeling the probability that a given input belongs to a particular class. It outputs a probability score, which is then thresholded to predict the class."
   ]
  },
  {
   "cell_type": "markdown",
   "id": "43e0044c-b2c3-4c0e-b7e6-b69fa75a716a",
   "metadata": {},
   "source": [
    "- What is the sigmoid function and how is it used in logistic regression?\n",
    "\n",
    "The sigmoid function maps any real-valued number to a value between 0 and 1. In logistic regression, it is used to model the probability of the positive class."
   ]
  },
  {
   "cell_type": "markdown",
   "id": "21ecc473-4273-45a7-bb6d-dff44d41af81",
   "metadata": {},
   "source": [
    "- Explain the concept of the cost function in logistic regression.\n",
    "\n",
    "The cost function in logistic regression measures the error between the predicted probabilities and the actual class labels. The goal is to minimize this function to improve the model's predictions."
   ]
  },
  {
   "cell_type": "markdown",
   "id": "33b2bb81-fa4a-4dfa-87d7-3484ca04c43d",
   "metadata": {},
   "source": [
    "- How can logistic regression be extended to handle multiclass classification?\n",
    "\n",
    "Logistic regression can be extended to handle multiclass classification using techniques like One-vs-Rest (OvR), where a separate binary classifier is trained for each class, or Softmax Regression, where the probabilities are distributed across multiple classes."
   ]
  },
  {
   "cell_type": "markdown",
   "id": "a233a84d-658c-4b5c-b3ff-8b9257ac6c84",
   "metadata": {},
   "source": [
    "- What is the difference between L1 and L2 regularization in logistic regression?\n",
    "\n",
    "L1 Regularization (Lasso): Adds the sum of the absolute values of the coefficients to the cost function, promoting sparsity in the coefficients.\n",
    "\n",
    "L2 Regularization (Ridge): Adds the sum of the squared values of the coefficients to the cost function, penalizing large coefficients."
   ]
  },
  {
   "cell_type": "markdown",
   "id": "54997edc-97c7-4e38-8e11-3fe9af532bad",
   "metadata": {},
   "source": [
    "- What is XGBoost and how does it differ from other boosting algorithms?\n",
    "\n",
    "XGBoost (Extreme Gradient Boosting) is an optimized and scalable implementation of the gradient boosting framework. It differs from other boosting algorithms by offering:\n",
    "\n",
    "Regularization: Prevents overfitting more effectively.\n",
    "\n",
    "Handling Missing Data: Automatically handles missing data during training.\n",
    "\n",
    "Parallelization: Speeds up the computation process.\n",
    "\n",
    "Tree Pruning: Makes the algorithm faster and more accurate."
   ]
  },
  {
   "cell_type": "markdown",
   "id": "261365ee-8c20-4363-bfa2-788b74887665",
   "metadata": {},
   "source": [
    "- Explain the concept of boosting in the context of ensemble learning.\n",
    "\n",
    "Boosting is a technique in ensemble learning that sequentially builds models, where each new model corrects the errors of the previous ones. It aims to reduce bias and variance, improving overall model performance."
   ]
  },
  {
   "cell_type": "markdown",
   "id": "a6188f04-bd2d-440f-8203-7513c3b3e778",
   "metadata": {},
   "source": [
    "- How does XGBoost handle missing values?\n",
    "\n",
    "XGBoost handles missing values by automatically learning the best direction to handle missing data, essentially treating missing values as a separate category and splitting on it."
   ]
  },
  {
   "cell_type": "markdown",
   "id": "ebeb7ea1-710b-49c5-b466-c923b667f957",
   "metadata": {},
   "source": [
    "- What are the key hyperparameters in XGBoost and how do they affect model performance?\n",
    "\n",
    "n_estimators: Number of trees in the model.\n",
    "\n",
    "learning_rate: Shrinks the contribution of each tree.\n",
    "\n",
    "max_depth: Maximum depth of a tree.\n",
    "\n",
    "subsample: Fraction of samples to be used for fitting individual base learners.\n",
    "\n",
    "colsample_bytree: Fraction of features to be used for building each tree.\n",
    "\n",
    "gamma: Minimum loss reduction required to make a further partition on a leaf node."
   ]
  },
  {
   "cell_type": "markdown",
   "id": "b825d91c-3627-4f27-aae9-c1758c57f1df",
   "metadata": {},
   "source": [
    "- Describe the process of gradient boosting in XGBoost.\n",
    "\n",
    "Gradient boosting in XGBoost involves building trees sequentially, where each tree is trained to minimize the errors of the previous trees. The model is built in a stage-wise manner by optimizing the loss function through gradient descent."
   ]
  },
  {
   "cell_type": "markdown",
   "id": "e48c5a47-cc6e-4cd2-ae76-8ab1110ba86b",
   "metadata": {},
   "source": [
    "- What are the advantages and disadvantages of using XGBoost?\n",
    "\n",
    "Advantages:\n",
    "\n",
    "High accuracy and efficiency.\n",
    "\n",
    "Built-in regularization reduces overfitting.\n",
    "\n",
    "Handles missing data effectively.\n",
    "\n",
    "Disadvantages:\n",
    "\n",
    "Computationally intensive and may require more resources.\n",
    "\n",
    "Complexity in tuning hyperparameters."
   ]
  }
 ],
 "metadata": {
  "kernelspec": {
   "display_name": "Python 3 (ipykernel)",
   "language": "python",
   "name": "python3"
  },
  "language_info": {
   "codemirror_mode": {
    "name": "ipython",
    "version": 3
   },
   "file_extension": ".py",
   "mimetype": "text/x-python",
   "name": "python",
   "nbconvert_exporter": "python",
   "pygments_lexer": "ipython3",
   "version": "3.10.8"
  }
 },
 "nbformat": 4,
 "nbformat_minor": 5
}
